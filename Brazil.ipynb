{
 "cells": [
  {
   "cell_type": "markdown",
   "metadata": {},
   "source": [
    "# Regression Model\n",
    "\n",
    "Written by  :  Hesham Asem\n",
    "\n",
    "Date        :  Aug 2019\n",
    "\n",
    "Contact     :  https://www.kaggle.com/HeshamAsem"
   ]
  },
  {
   "cell_type": "markdown",
   "metadata": {},
   "source": [
    "______\n",
    "\n",
    "Here is the Data , which is about Oil prices & its details in Brazilfor 15 years , between 2004 & 2009\n",
    "\n",
    "we need to read the data , make data processing , then make a model to predict the (mean price) depend on other features\n",
    "\n",
    "\n",
    "\n",
    "# Data Loading\n",
    "\n",
    "so we need first to import needed libraries"
   ]
  },
  {
   "cell_type": "code",
   "execution_count": null,
   "metadata": {},
   "outputs": [],
   "source": [
    "import numpy as np\n",
    "import pandas as pd\n",
    "import matplotlib.pyplot as plt\n",
    "%matplotlib inline\n",
    "import seaborn as sns\n",
    "sns.set(style=\"whitegrid\")\n",
    "from sklearn.model_selection import train_test_split\n",
    "from sklearn.linear_model import LinearRegression\n",
    "from sklearn.svm import SVR\n",
    "from sklearn.tree import DecisionTreeRegressor"
   ]
  },
  {
   "cell_type": "markdown",
   "metadata": {},
   "source": [
    "____\n",
    "\n",
    "and since the feature written in portuguese , I translated it to English so we can understand them \n"
   ]
  },
  {
   "cell_type": "code",
   "execution_count": null,
   "metadata": {},
   "outputs": [],
   "source": [
    "col_names = ['Index','Initial Date','Final Date','Region','State','Product','Number of searches','Unit of Measurment',\n",
    "           'Mean Price','Default Price','Minimum Price','Maximum Price','Mean Margin','Price Standar Deviation','Mean Price Distribution',\n",
    "           'Default Price Distribution','Minimum Price Distribution','Maximum Price Distribution','Distribution Standard Deviation',\n",
    "           'M Factor' ,'Year']\n",
    "\n",
    "data = pd.read_excel('2004-2019.xls' , names = col_names)  \n",
    "\n",
    "data.head()"
   ]
  },
  {
   "cell_type": "markdown",
   "metadata": {},
   "source": [
    "How about the Shape ? "
   ]
  },
  {
   "cell_type": "code",
   "execution_count": null,
   "metadata": {},
   "outputs": [],
   "source": [
    "data.shape"
   ]
  },
  {
   "cell_type": "markdown",
   "metadata": {},
   "source": [
    "since 'Index' will do nothing in the data , lets drop it"
   ]
  },
  {
   "cell_type": "code",
   "execution_count": null,
   "metadata": {},
   "outputs": [],
   "source": [
    "data.drop(['Index'],axis=1, inplace=True)"
   ]
  },
  {
   "cell_type": "markdown",
   "metadata": {},
   "source": [
    "then check data "
   ]
  },
  {
   "cell_type": "code",
   "execution_count": null,
   "metadata": {},
   "outputs": [],
   "source": [
    "data.head()"
   ]
  },
  {
   "cell_type": "markdown",
   "metadata": {},
   "source": [
    "__________\n",
    "\n",
    "\n",
    "# Data Processing\n",
    "\n",
    "now we need to know more about he data , lets use describe tool"
   ]
  },
  {
   "cell_type": "code",
   "execution_count": null,
   "metadata": {},
   "outputs": [],
   "source": [
    "data.describe()"
   ]
  },
  {
   "cell_type": "markdown",
   "metadata": {},
   "source": [
    "it`s clear that python will not calculate categorical data , only numerical values ,  also it looks we need to standrardize the numbers , but this will be done later\n",
    "\n",
    "now lets check the types of features & to check if it contain nulls"
   ]
  },
  {
   "cell_type": "code",
   "execution_count": null,
   "metadata": {},
   "outputs": [],
   "source": [
    "data.info()"
   ]
  },
  {
   "cell_type": "markdown",
   "metadata": {},
   "source": [
    "________\n",
    "\n",
    "we`re lucky to have no Null data , but it looks that several features its type is (object) . which might contain letters & numbers together \n",
    "\n",
    "\n",
    "lets first check 'Mean Margin' feature , which written here as Object , instead of float64\n"
   ]
  },
  {
   "cell_type": "code",
   "execution_count": null,
   "metadata": {},
   "outputs": [],
   "source": [
    "data['Mean Margin']"
   ]
  },
  {
   "cell_type": "markdown",
   "metadata": {},
   "source": [
    "________\n",
    "\n",
    "it looks that some rows contain (-) which might refer to the null value , lets see how many (-) exists\n"
   ]
  },
  {
   "cell_type": "code",
   "execution_count": null,
   "metadata": {},
   "outputs": [],
   "source": [
    "n = 0\n",
    "for i in range(data.shape[0]) : \n",
    "    if str(data['Mean Margin'][i]) == '-' : \n",
    "        n+=1\n",
    "\n",
    "print('There is {} null value here'.format(n))\n",
    "    "
   ]
  },
  {
   "cell_type": "markdown",
   "metadata": {},
   "source": [
    "______\n",
    "\n",
    "around 1500 null value in Mean Margin only , so lets use simple equation to fill the nulls"
   ]
  },
  {
   "cell_type": "code",
   "execution_count": null,
   "metadata": {},
   "outputs": [],
   "source": [
    "summ = 0\n",
    "n = 0\n",
    "\n",
    "for i in range(data.shape[0]) : \n",
    "    if not str(data['Mean Margin'][i]) == '-' : \n",
    "        summ += float(data['Mean Margin'][i])\n",
    "        n+=1\n",
    "\n",
    "the_mean = summ/ n\n",
    "\n",
    "print('the mean is {}'.format(the_mean))\n",
    "\n",
    "for i in range(data.shape[0]) : \n",
    "    if str(data['Mean Margin'][i]) == '-' : \n",
    "      data['Mean Margin'][i] = the_mean\n",
    "        \n"
   ]
  },
  {
   "cell_type": "markdown",
   "metadata": {},
   "source": [
    "_____\n",
    "\n",
    "now lets check if there is any nulls exists"
   ]
  },
  {
   "cell_type": "code",
   "execution_count": null,
   "metadata": {},
   "outputs": [],
   "source": [
    "n = 0\n",
    "for i in range(data.shape[0]) : \n",
    "    if str(data['Mean Margin'][i]) == '-' : \n",
    "        n+=1\n",
    "\n",
    "print('There is {} null value here'.format(n))"
   ]
  },
  {
   "cell_type": "markdown",
   "metadata": {},
   "source": [
    "___________\n",
    "\n",
    "\n",
    "great . now lets check if it become \"float64\" or not yet \n"
   ]
  },
  {
   "cell_type": "code",
   "execution_count": null,
   "metadata": {},
   "outputs": [],
   "source": [
    "data.info()"
   ]
  },
  {
   "cell_type": "markdown",
   "metadata": {},
   "source": [
    "________\n",
    "\n",
    "although it's still written here as object , let's check if any cell contain non-numbers here\n",
    "\n",
    "\n"
   ]
  },
  {
   "cell_type": "code",
   "execution_count": null,
   "metadata": {},
   "outputs": [],
   "source": [
    "n = 0\n",
    "for i in range(data.shape[0]) : \n",
    "    if float(data['Mean Margin'][i]) == 0 : \n",
    "        n+=1\n",
    "\n",
    "print('There is {} cell with zero value'.format(n))"
   ]
  },
  {
   "cell_type": "markdown",
   "metadata": {},
   "source": [
    "_____\n",
    "\n",
    "great , now lets repeat the same step in other non-categorical features which written as \"Object\" ,like  : \n",
    "\n",
    "Mean Price Distribution            \n",
    "Default Price Distribution         \n",
    "Minimum Price Distribution         \n",
    "Maximum Price Distribution         \n",
    "Distribution Standard Deviation    "
   ]
  },
  {
   "cell_type": "code",
   "execution_count": null,
   "metadata": {},
   "outputs": [],
   "source": [
    "a = b = c= d = e  = 0\n",
    "for i in range(data.shape[0]) : \n",
    "    if str(data['Mean Price Distribution'][i]) == '-' : \n",
    "        a+=1\n",
    "    if str(data['Default Price Distribution'][i]) == '-' : \n",
    "        b+=1\n",
    "    if str(data['Minimum Price Distribution'][i]) == '-' : \n",
    "        c+=1\n",
    "    if str(data['Maximum Price Distribution'][i]) == '-' : \n",
    "        d+=1\n",
    "    if str(data['Distribution Standard Deviation'][i]) == '-' :  \n",
    "        e+=1\n",
    "\n",
    "print('There is {} null value here'.format(a))\n",
    "print('There is {} null value here'.format(b))\n",
    "print('There is {} null value here'.format(c))                \n",
    "print('There is {} null value here'.format(d))\n",
    "print('There is {} null value here'.format(e))                \n",
    "    "
   ]
  },
  {
   "cell_type": "markdown",
   "metadata": {},
   "source": [
    "______\n",
    "\n",
    "Then lets make the mean in those cells in the same way  (this might take few mins)"
   ]
  },
  {
   "cell_type": "code",
   "execution_count": null,
   "metadata": {},
   "outputs": [],
   "source": [
    "a_summ = b_summ = c_summ = d_summ = e_summ = 0\n",
    "n = 1471\n",
    "\n",
    "for i in range(data.shape[0]) : \n",
    "    if not str(data['Mean Price Distribution'][i]) == '-' : \n",
    "        a_summ += float(data['Mean Price Distribution'][i])\n",
    "        \n",
    "    if not str(data['Default Price Distribution'][i]) == '-' : \n",
    "        b_summ += float(data['Default Price Distribution'][i])\n",
    "\n",
    "    if not str(data['Minimum Price Distribution'][i]) == '-' : \n",
    "        c_summ += float(data['Minimum Price Distribution'][i])\n",
    "        \n",
    "    if not str(data['Maximum Price Distribution'][i]) == '-' : \n",
    "        d_summ += float(data['Maximum Price Distribution'][i])\n",
    "        \n",
    "    if not str(data['Distribution Standard Deviation'][i]) == '-' : \n",
    "        e_summ += float(data['Distribution Standard Deviation'][i])\n",
    "        \n",
    "\n",
    "      \n",
    "        \n",
    "a_mean = a_summ/ n\n",
    "b_mean = b_summ/ n\n",
    "c_mean = c_summ/ n\n",
    "d_mean = d_summ/ n\n",
    "e_mean = e_summ/ n\n",
    "\n",
    "for i in range(data.shape[0]) : \n",
    "    if str(data['Mean Price Distribution'][i]) == '-' : \n",
    "        data['Mean Price Distribution'][i] = a_mean\n",
    "\n",
    "    if str(data['Default Price Distribution'][i]) == '-' : \n",
    "        data['Default Price Distribution'][i] = b_mean\n",
    "        \n",
    "    if str(data['Minimum Price Distribution'][i]) == '-' : \n",
    "        data['Minimum Price Distribution'][i] = c_mean\n",
    "        \n",
    "    if str(data['Maximum Price Distribution'][i]) == '-' : \n",
    "        data['Maximum Price Distribution'][i] = d_mean\n",
    "    \n",
    "    if str(data['Distribution Standard Deviation'][i]) == '-' : \n",
    "        data['Distribution Standard Deviation'][i] = e_mean\n",
    "        \n",
    "\n",
    "\n",
    "\n",
    "        "
   ]
  },
  {
   "cell_type": "markdown",
   "metadata": {},
   "source": [
    "____________________\n",
    "\n",
    "# Categorical Features\n",
    "\n",
    "now lets move to convert Categorical features , into numerical values , so we can enter them in the model\n",
    "\n",
    "we have 4 Categorical features , which are : \n",
    "\n",
    "Region  ,  State    ,   Product    ,   Unit of Measurment\n",
    "\n",
    "\n",
    "so in each feature , we'll check unique values , then convert it using dictionary & map fucntion , in a new column , and them drop the original column\n",
    "\n",
    "let's start with Region : \n"
   ]
  },
  {
   "cell_type": "code",
   "execution_count": null,
   "metadata": {},
   "outputs": [],
   "source": [
    "data['Region'].unique()"
   ]
  },
  {
   "cell_type": "code",
   "execution_count": null,
   "metadata": {},
   "outputs": [],
   "source": [
    "Region_dict = {'CENTRO OESTE': 0,'NORDESTE':1, 'NORTE':2, 'SUDESTE':3, 'SUL':4}\n",
    "data['Region Code'] = data['Region'].map(Region_dict)\n",
    "\n",
    "data.drop(['Region'],axis=1, inplace=True)\n"
   ]
  },
  {
   "cell_type": "markdown",
   "metadata": {},
   "source": [
    "\n",
    "\n",
    "now lets check the data itsself \n"
   ]
  },
  {
   "cell_type": "code",
   "execution_count": null,
   "metadata": {},
   "outputs": [],
   "source": [
    "data.head()"
   ]
  },
  {
   "cell_type": "markdown",
   "metadata": {},
   "source": [
    "\n",
    "___________________\n",
    "\n",
    "now lets repeat it in State \n"
   ]
  },
  {
   "cell_type": "code",
   "execution_count": null,
   "metadata": {},
   "outputs": [],
   "source": [
    "data['State'].unique()"
   ]
  },
  {
   "cell_type": "code",
   "execution_count": null,
   "metadata": {},
   "outputs": [],
   "source": [
    "State_dict = {'DISTRITO FEDERAL':0, 'GOIAS':1, 'MATO GROSSO':2, 'MATO GROSSO DO SUL':3,\n",
    "       'ALAGOAS':4, 'BAHIA':5, 'CEARA':6, 'MARANHAO':7, 'PARAIBA':8, 'PERNAMBUCO':9,\n",
    "       'PIAUI':10, 'RIO GRANDE DO NORTE':11, 'SERGIPE':12, 'ACRE':13, 'AMAPA':14,\n",
    "       'AMAZONAS':15, 'PARA':16, 'RONDONIA':17, 'RORAIMA':18, 'TOCANTINS':19,\n",
    "       'ESPIRITO SANTO':20, 'MINAS GERAIS':21, 'RIO DE JANEIRO':22, 'SAO PAULO':23,\n",
    "       'PARANA':24, 'RIO GRANDE DO SUL':25, 'SANTA CATARINA':26}\n",
    "data['State Code'] = data['State'].map(State_dict)\n",
    "\n",
    "data.drop(['State'],axis=1, inplace=True)\n",
    "\n",
    "data.head()\n"
   ]
  },
  {
   "cell_type": "code",
   "execution_count": null,
   "metadata": {},
   "outputs": [],
   "source": [
    "data['Product'].unique()"
   ]
  },
  {
   "cell_type": "markdown",
   "metadata": {},
   "source": [
    "\n",
    "_________\n",
    "\n",
    "then Product . . \n"
   ]
  },
  {
   "cell_type": "code",
   "execution_count": null,
   "metadata": {},
   "outputs": [],
   "source": [
    "Product_dict = {'ETANOL HIDRATADO':0, 'GASOLINA COMUM':1, 'GLP':2, 'GNV':3, 'أ“LEO DIESEL':4,\n",
    "       'أ“LEO DIESEL S10':5}\n",
    "\n",
    "data['Product Code'] = data['Product'].map(Product_dict)\n",
    "\n",
    "data.drop(['Product'],axis=1, inplace=True)\n",
    "\n",
    "data.head()"
   ]
  },
  {
   "cell_type": "markdown",
   "metadata": {},
   "source": [
    "\n",
    "_________\n",
    "\n",
    "and Unit of measurment"
   ]
  },
  {
   "cell_type": "code",
   "execution_count": null,
   "metadata": {},
   "outputs": [],
   "source": [
    "data['Unit of Measurment'].unique()"
   ]
  },
  {
   "cell_type": "code",
   "execution_count": null,
   "metadata": {},
   "outputs": [],
   "source": [
    "Unit_dict = {'R$/l':0, 'R$/13Kg':1, 'R$/m3':2}\n",
    "\n",
    "data['Unit Code'] = data['Unit of Measurment'].map(Unit_dict)\n",
    "\n",
    "data.drop(['Unit of Measurment'],axis=1, inplace=True)\n",
    "\n",
    "data.head()"
   ]
  },
  {
   "cell_type": "markdown",
   "metadata": {},
   "source": [
    "\n",
    "\n",
    "________\n",
    "\n",
    "# Handling Date \n",
    "\n",
    "since we have here 2 columns for date , which is Initial date & Final Date , let;s first check how many rows when the year at those two columns are mismatch \n"
   ]
  },
  {
   "cell_type": "code",
   "execution_count": null,
   "metadata": {},
   "outputs": [],
   "source": [
    "mismatch=0\n",
    "for i in range(data.shape[0])  : \n",
    "    if not (int(data['Initial Date'][i].year)  == int(data['Final Date'][i].year)) :\n",
    "        mismatch +=1\n",
    "        \n",
    "print( 'Year mismatch amount is {}'.format(mismatch))"
   ]
  },
  {
   "cell_type": "markdown",
   "metadata": {},
   "source": [
    "____\n",
    "\n",
    "since it's kinda ew number comparing with the 65 thousand rows , so we can use only one of them , which will be the Final Date\n",
    "\n",
    "also since the Day will not affect so much in the price , so let's only use the month & the year in 2 new separated columns"
   ]
  },
  {
   "cell_type": "code",
   "execution_count": null,
   "metadata": {},
   "outputs": [],
   "source": [
    "Years = []\n",
    "Months = []\n",
    "for i in range(data.shape[0])  : \n",
    "    Years.append(str(data['Final Date'][i])[:4])\n",
    "    Months.append(str(data['Final Date'][i])[5:7])       "
   ]
  },
  {
   "cell_type": "code",
   "execution_count": null,
   "metadata": {},
   "outputs": [],
   "source": [
    "data['Final Year'] = Years\n",
    "data['Final Months'] = Months\n",
    "\n",
    "data.drop(['Initial Date','Final Date','Year'],axis=1, inplace=True)\n"
   ]
  },
  {
   "cell_type": "markdown",
   "metadata": {},
   "source": [
    "\n",
    "\n",
    "now lets  check the final data \n"
   ]
  },
  {
   "cell_type": "code",
   "execution_count": null,
   "metadata": {},
   "outputs": [],
   "source": [
    "data.head()"
   ]
  },
  {
   "cell_type": "markdown",
   "metadata": {},
   "source": [
    "\n",
    "______\n",
    "\n",
    "# Showing Data\n",
    "\n",
    "let's have a quick look to few features distribution , using countplot tool from Seaborn library . .\n",
    "\n",
    "\n",
    "here for Region Code"
   ]
  },
  {
   "cell_type": "code",
   "execution_count": null,
   "metadata": {},
   "outputs": [],
   "source": [
    "sns.countplot(x=\"Region Code\", data=data,facecolor=(0, 0, 0, 0),linewidth=5,edgecolor=sns.color_palette(\"dark\", 3))"
   ]
  },
  {
   "cell_type": "markdown",
   "metadata": {},
   "source": [
    "\n",
    "\n",
    "and here for State "
   ]
  },
  {
   "cell_type": "code",
   "execution_count": null,
   "metadata": {},
   "outputs": [],
   "source": [
    "sns.countplot(x=\"State Code\", data=data,facecolor=(0, 0, 0, 0),linewidth=5,edgecolor=sns.color_palette(\"dark\", 3))"
   ]
  },
  {
   "cell_type": "markdown",
   "metadata": {},
   "source": [
    "\n",
    "then the Product"
   ]
  },
  {
   "cell_type": "code",
   "execution_count": null,
   "metadata": {},
   "outputs": [],
   "source": [
    "sns.countplot(x=\"Product Code\", data=data,facecolor=(0, 0, 0, 0),linewidth=5,edgecolor=sns.color_palette(\"dark\", 3))"
   ]
  },
  {
   "cell_type": "markdown",
   "metadata": {},
   "source": [
    "\n",
    "and for the Year"
   ]
  },
  {
   "cell_type": "code",
   "execution_count": null,
   "metadata": {},
   "outputs": [],
   "source": [
    "sns.countplot(x=\"Final Year\", data=data,facecolor=(0, 0, 0, 0),linewidth=5,edgecolor=sns.color_palette(\"dark\", 3))"
   ]
  },
  {
   "cell_type": "markdown",
   "metadata": {},
   "source": [
    "\n",
    "_____________\n",
    "\n",
    "# Splitting the Data\n",
    "\n",
    "\n",
    "now lets use determine X & y data , then use Sklearn , to split the data into Train & test\n"
   ]
  },
  {
   "cell_type": "code",
   "execution_count": null,
   "metadata": {},
   "outputs": [],
   "source": [
    "X = data.drop(['Mean Price'], axis=1, inplace=False)\n",
    "print('X shape is ' , X.shape)\n",
    "X.head()"
   ]
  },
  {
   "cell_type": "code",
   "execution_count": null,
   "metadata": {},
   "outputs": [],
   "source": [
    "y = data['Mean Price']\n",
    "\n",
    "print('y shape is ' , y.shape)\n",
    "y.head()\n"
   ]
  },
  {
   "cell_type": "markdown",
   "metadata": {},
   "source": [
    "___\n",
    "\n",
    "then split it"
   ]
  },
  {
   "cell_type": "code",
   "execution_count": null,
   "metadata": {},
   "outputs": [],
   "source": [
    "X_train, X_test, y_train, y_test = train_test_split(X, y, test_size=0.25, random_state=44, shuffle =True)\n",
    "\n",
    "\n",
    "print('X_train shape is ' , X_train.shape)\n",
    "print('X_test shape is ' , X_test.shape)\n",
    "print('y_train shape is ' , y_train.shape)\n",
    "print('y_test shape is ' , y_test.shape)"
   ]
  },
  {
   "cell_type": "markdown",
   "metadata": {},
   "source": [
    "____\n",
    "\n",
    "# Building the Model\n",
    "\n",
    "let's use 3 regerssion Models using Sklearn , to check which is suitable . . \n",
    "\n",
    "first use Linear Regression\n",
    "\n"
   ]
  },
  {
   "cell_type": "code",
   "execution_count": null,
   "metadata": {},
   "outputs": [],
   "source": [
    "LinearRegressionModel = LinearRegression(fit_intercept=True, normalize=True,copy_X=True,n_jobs=-1)\n",
    "LinearRegressionModel.fit(X_train, y_train)"
   ]
  },
  {
   "cell_type": "markdown",
   "metadata": {},
   "source": [
    "____\n",
    "\n",
    "now how about the Train & Test Scores ? \n"
   ]
  },
  {
   "cell_type": "code",
   "execution_count": null,
   "metadata": {},
   "outputs": [],
   "source": [
    "#Calculating Details\n",
    "print('Linear Regression Train Score is : ' , LinearRegressionModel.score(X_train, y_train))\n",
    "print('Linear Regression Test Score is : ' , LinearRegressionModel.score(X_test, y_test))\n"
   ]
  },
  {
   "cell_type": "markdown",
   "metadata": {},
   "source": [
    "\n",
    "_____\n",
    "\n",
    "looks great which might refer to some kind of overfitt , now lets check predicted values"
   ]
  },
  {
   "cell_type": "code",
   "execution_count": null,
   "metadata": {},
   "outputs": [],
   "source": [
    "y_pred = LinearRegressionModel.predict(X_test)\n",
    "print('Predicted Value for Linear Regression is : ' , y_pred[:10])"
   ]
  },
  {
   "cell_type": "markdown",
   "metadata": {},
   "source": [
    "____\n",
    "\n",
    "now lets move to SVR Model \n"
   ]
  },
  {
   "cell_type": "code",
   "execution_count": null,
   "metadata": {},
   "outputs": [],
   "source": [
    "'''\n",
    "sklearn.svm.SVR(kernel=’rbf’, degree=3, gamma=’auto_deprecated’, coef0=0.0, tol=0.001,\n",
    "                C=1.0, epsilon=0.1, shrinking=True, cache_size=200, verbose=False,max_iter=-1)\n",
    "'''\n",
    "\n",
    "SVRModel = SVR(C = 1.0 ,epsilon=0.1,kernel = 'rbf') # it also can be : linear, poly, rbf, sigmoid, precomputed\n",
    "SVRModel.fit(X_train, y_train)\n"
   ]
  },
  {
   "cell_type": "markdown",
   "metadata": {},
   "source": [
    "____\n",
    "\n",
    "how about scores ? \n"
   ]
  },
  {
   "cell_type": "code",
   "execution_count": null,
   "metadata": {},
   "outputs": [],
   "source": [
    "print('SVRModel Train Score is : ' , SVRModel.score(X_train, y_train))\n",
    "print('SVRModel Test Score is : ' , SVRModel.score(X_test, y_test))"
   ]
  },
  {
   "cell_type": "markdown",
   "metadata": {},
   "source": [
    "\n",
    "___\n",
    "\n",
    "and the predicted Values . . \n",
    "\n"
   ]
  },
  {
   "cell_type": "code",
   "execution_count": null,
   "metadata": {},
   "outputs": [],
   "source": [
    "#Calculating Prediction\n",
    "y_pred = SVRModel.predict(X_test)\n",
    "print('Predicted Value for SVRModel is : ' , y_pred[:10])"
   ]
  },
  {
   "cell_type": "markdown",
   "metadata": {},
   "source": [
    "\n",
    "____\n",
    "\n",
    "now let's use Decision Tree Regressor\n",
    "\n"
   ]
  },
  {
   "cell_type": "code",
   "execution_count": null,
   "metadata": {},
   "outputs": [],
   "source": [
    "'''\n",
    "sklearn.tree.DecisionTreeRegressor(criterion='mse’, splitter=’best’, max_depth=None,min_samples_split=2,\n",
    "                                   min_samples_leaf=1,min_weight_fraction_leaf=0.0, max_features=None,\n",
    "                                   random_state=None, max_leaf_nodes=None,min_impurity_decrease=0.0,\n",
    "                                   min_impurity_split=None, presort=False)\n",
    "'''\n",
    "\n",
    "DecisionTreeRegressorModel = DecisionTreeRegressor( max_depth=3,random_state=33)\n",
    "DecisionTreeRegressorModel.fit(X_train, y_train)\n"
   ]
  },
  {
   "cell_type": "markdown",
   "metadata": {},
   "source": [
    "____\n",
    "\n",
    "calculating Scores \n"
   ]
  },
  {
   "cell_type": "code",
   "execution_count": null,
   "metadata": {},
   "outputs": [],
   "source": [
    "print('DecisionTreeRegressor Train Score is : ' , DecisionTreeRegressorModel.score(X_train, y_train))\n",
    "print('DecisionTreeRegressor Test Score is : ' , DecisionTreeRegressorModel.score(X_test, y_test))"
   ]
  },
  {
   "cell_type": "markdown",
   "metadata": {},
   "source": [
    "\n",
    "___\n",
    "\n",
    "and Predicted Values"
   ]
  },
  {
   "cell_type": "code",
   "execution_count": null,
   "metadata": {},
   "outputs": [],
   "source": [
    "y_pred = DecisionTreeRegressorModel.predict(X_test)\n",
    "print('Predicted Value for DecisionTreeRegressorModel is : ' , y_pred[:10])"
   ]
  },
  {
   "cell_type": "markdown",
   "metadata": {},
   "source": [
    "___\n",
    "\n",
    "# Final\n",
    "\n",
    "\n",
    "it looks that using --- will be better in prediction the mean price , but may be changing some parameters in other models bring better model"
   ]
  }
 ],
 "metadata": {
  "kernelspec": {
   "display_name": "Python 3",
   "language": "python",
   "name": "python3"
  },
  "language_info": {
   "codemirror_mode": {
    "name": "ipython",
    "version": 3
   },
   "file_extension": ".py",
   "mimetype": "text/x-python",
   "name": "python",
   "nbconvert_exporter": "python",
   "pygments_lexer": "ipython3",
   "version": "3.7.3"
  }
 },
 "nbformat": 4,
 "nbformat_minor": 2
}
