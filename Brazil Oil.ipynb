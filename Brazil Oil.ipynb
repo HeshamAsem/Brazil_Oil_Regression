{
 "cells": [
  {
   "cell_type": "markdown",
   "metadata": {
    "colab_type": "text",
    "id": "M9wtOWgYJ144"
   },
   "source": [
    "# Regression Model\n",
    "\n",
    "Written by  :  Hesham Asem\n",
    "\n",
    "Date        :  Aug 2019\n",
    "\n",
    "Contact     :  https://www.kaggle.com/HeshamAsem"
   ]
  },
  {
   "cell_type": "markdown",
   "metadata": {
    "colab_type": "text",
    "id": "yg3IGWUTJ14_"
   },
   "source": [
    "______\n",
    "\n",
    "Here is the Data , which is about Oil prices & its details in Brazilfor 15 years , between 2004 & 2009\n",
    "\n",
    "we need to read the data , make data processing , then make a model to predict the (mean price) depend on other features\n",
    "\n",
    "\n",
    "\n",
    "# Data Loading\n",
    "\n",
    "so we need first to import needed libraries"
   ]
  },
  {
   "cell_type": "code",
   "execution_count": 0,
   "metadata": {
    "colab": {},
    "colab_type": "code",
    "id": "PSiPlldkJ15C"
   },
   "outputs": [],
   "source": [
    "import numpy as np\n",
    "import pandas as pd\n",
    "import matplotlib.pyplot as plt\n",
    "%matplotlib inline\n",
    "import seaborn as sns\n",
    "sns.set(style=\"whitegrid\")\n",
    "from sklearn.model_selection import train_test_split\n",
    "from sklearn.linear_model import LinearRegression\n",
    "from sklearn.svm import SVR\n",
    "from sklearn.tree import DecisionTreeRegressor"
   ]
  },
  {
   "cell_type": "markdown",
   "metadata": {
    "colab_type": "text",
    "id": "Qm_dfAlwJ15R"
   },
   "source": [
    "____\n",
    "\n",
    "and since the feature written in portuguese , I translated it to English so we can understand them \n"
   ]
  },
  {
   "cell_type": "code",
   "execution_count": 2,
   "metadata": {
    "colab": {
     "base_uri": "https://localhost:8080/",
     "height": 360
    },
    "colab_type": "code",
    "id": "TTW0TjSqJ15W",
    "outputId": "58dc4b66-f9ef-416a-8e85-98f320ff9c5e"
   },
   "outputs": [
    {
     "data": {
      "text/html": [
       "<div>\n",
       "<style scoped>\n",
       "    .dataframe tbody tr th:only-of-type {\n",
       "        vertical-align: middle;\n",
       "    }\n",
       "\n",
       "    .dataframe tbody tr th {\n",
       "        vertical-align: top;\n",
       "    }\n",
       "\n",
       "    .dataframe thead th {\n",
       "        text-align: right;\n",
       "    }\n",
       "</style>\n",
       "<table border=\"1\" class=\"dataframe\">\n",
       "  <thead>\n",
       "    <tr style=\"text-align: right;\">\n",
       "      <th></th>\n",
       "      <th>Index</th>\n",
       "      <th>Initial Date</th>\n",
       "      <th>Final Date</th>\n",
       "      <th>Region</th>\n",
       "      <th>State</th>\n",
       "      <th>Product</th>\n",
       "      <th>Number of searches</th>\n",
       "      <th>Unit of Measurment</th>\n",
       "      <th>Mean Price</th>\n",
       "      <th>Default Price</th>\n",
       "      <th>Minimum Price</th>\n",
       "      <th>Maximum Price</th>\n",
       "      <th>Mean Margin</th>\n",
       "      <th>Price Standar Deviation</th>\n",
       "      <th>Mean Price Distribution</th>\n",
       "      <th>Default Price Distribution</th>\n",
       "      <th>Minimum Price Distribution</th>\n",
       "      <th>Maximum Price Distribution</th>\n",
       "      <th>Distribution Standard Deviation</th>\n",
       "      <th>M Factor</th>\n",
       "      <th>Year</th>\n",
       "    </tr>\n",
       "  </thead>\n",
       "  <tbody>\n",
       "    <tr>\n",
       "      <th>0</th>\n",
       "      <td>0</td>\n",
       "      <td>2004-05-09</td>\n",
       "      <td>2004-05-15</td>\n",
       "      <td>CENTRO OESTE</td>\n",
       "      <td>DISTRITO FEDERAL</td>\n",
       "      <td>ETANOL HIDRATADO</td>\n",
       "      <td>127</td>\n",
       "      <td>R$/l</td>\n",
       "      <td>1.288</td>\n",
       "      <td>0.016</td>\n",
       "      <td>1.19</td>\n",
       "      <td>1.350</td>\n",
       "      <td>0.463</td>\n",
       "      <td>0.012</td>\n",
       "      <td>0.825</td>\n",
       "      <td>0.11</td>\n",
       "      <td>0.4201</td>\n",
       "      <td>0.9666</td>\n",
       "      <td>0.133</td>\n",
       "      <td>5</td>\n",
       "      <td>2004</td>\n",
       "    </tr>\n",
       "    <tr>\n",
       "      <th>1</th>\n",
       "      <td>1</td>\n",
       "      <td>2004-05-09</td>\n",
       "      <td>2004-05-15</td>\n",
       "      <td>CENTRO OESTE</td>\n",
       "      <td>GOIAS</td>\n",
       "      <td>ETANOL HIDRATADO</td>\n",
       "      <td>387</td>\n",
       "      <td>R$/l</td>\n",
       "      <td>1.162</td>\n",
       "      <td>0.114</td>\n",
       "      <td>0.89</td>\n",
       "      <td>1.449</td>\n",
       "      <td>0.399</td>\n",
       "      <td>0.098</td>\n",
       "      <td>0.763</td>\n",
       "      <td>0.088</td>\n",
       "      <td>0.5013</td>\n",
       "      <td>1.05</td>\n",
       "      <td>0.115</td>\n",
       "      <td>5</td>\n",
       "      <td>2004</td>\n",
       "    </tr>\n",
       "    <tr>\n",
       "      <th>2</th>\n",
       "      <td>2</td>\n",
       "      <td>2004-05-09</td>\n",
       "      <td>2004-05-15</td>\n",
       "      <td>CENTRO OESTE</td>\n",
       "      <td>MATO GROSSO</td>\n",
       "      <td>ETANOL HIDRATADO</td>\n",
       "      <td>192</td>\n",
       "      <td>R$/l</td>\n",
       "      <td>1.389</td>\n",
       "      <td>0.097</td>\n",
       "      <td>1.18</td>\n",
       "      <td>1.760</td>\n",
       "      <td>0.419</td>\n",
       "      <td>0.070</td>\n",
       "      <td>0.97</td>\n",
       "      <td>0.095</td>\n",
       "      <td>0.5614</td>\n",
       "      <td>1.161</td>\n",
       "      <td>0.098</td>\n",
       "      <td>5</td>\n",
       "      <td>2004</td>\n",
       "    </tr>\n",
       "    <tr>\n",
       "      <th>3</th>\n",
       "      <td>3</td>\n",
       "      <td>2004-05-09</td>\n",
       "      <td>2004-05-15</td>\n",
       "      <td>CENTRO OESTE</td>\n",
       "      <td>MATO GROSSO DO SUL</td>\n",
       "      <td>ETANOL HIDRATADO</td>\n",
       "      <td>162</td>\n",
       "      <td>R$/l</td>\n",
       "      <td>1.262</td>\n",
       "      <td>0.070</td>\n",
       "      <td>1.09</td>\n",
       "      <td>1.509</td>\n",
       "      <td>0.432</td>\n",
       "      <td>0.055</td>\n",
       "      <td>0.83</td>\n",
       "      <td>0.119</td>\n",
       "      <td>0.5991</td>\n",
       "      <td>1.22242</td>\n",
       "      <td>0.143</td>\n",
       "      <td>5</td>\n",
       "      <td>2004</td>\n",
       "    </tr>\n",
       "    <tr>\n",
       "      <th>4</th>\n",
       "      <td>4</td>\n",
       "      <td>2004-05-09</td>\n",
       "      <td>2004-05-15</td>\n",
       "      <td>NORDESTE</td>\n",
       "      <td>ALAGOAS</td>\n",
       "      <td>ETANOL HIDRATADO</td>\n",
       "      <td>103</td>\n",
       "      <td>R$/l</td>\n",
       "      <td>1.181</td>\n",
       "      <td>0.078</td>\n",
       "      <td>1.05</td>\n",
       "      <td>1.400</td>\n",
       "      <td>0.24</td>\n",
       "      <td>0.066</td>\n",
       "      <td>0.941</td>\n",
       "      <td>0.077</td>\n",
       "      <td>0.7441</td>\n",
       "      <td>1.0317</td>\n",
       "      <td>0.082</td>\n",
       "      <td>5</td>\n",
       "      <td>2004</td>\n",
       "    </tr>\n",
       "  </tbody>\n",
       "</table>\n",
       "</div>"
      ],
      "text/plain": [
       "   Index Initial Date  ... M Factor  Year\n",
       "0      0   2004-05-09  ...        5  2004\n",
       "1      1   2004-05-09  ...        5  2004\n",
       "2      2   2004-05-09  ...        5  2004\n",
       "3      3   2004-05-09  ...        5  2004\n",
       "4      4   2004-05-09  ...        5  2004\n",
       "\n",
       "[5 rows x 21 columns]"
      ]
     },
     "execution_count": 2,
     "metadata": {
      "tags": []
     },
     "output_type": "execute_result"
    }
   ],
   "source": [
    "col_names = ['Index','Initial Date','Final Date','Region','State','Product','Number of searches','Unit of Measurment',\n",
    "           'Mean Price','Default Price','Minimum Price','Maximum Price','Mean Margin','Price Standar Deviation','Mean Price Distribution',\n",
    "           'Default Price Distribution','Minimum Price Distribution','Maximum Price Distribution','Distribution Standard Deviation',\n",
    "           'M Factor' ,'Year']\n",
    "\n",
    "data = pd.read_excel('2004-2019.xls' , names = col_names)  \n",
    "\n",
    "data.head()"
   ]
  },
  {
   "cell_type": "markdown",
   "metadata": {
    "colab_type": "text",
    "id": "61fI6ziyJ15g"
   },
   "source": [
    "How about the Shape ? "
   ]
  },
  {
   "cell_type": "code",
   "execution_count": 3,
   "metadata": {
    "colab": {
     "base_uri": "https://localhost:8080/",
     "height": 34
    },
    "colab_type": "code",
    "id": "LA1OC969J15j",
    "outputId": "6e13c053-5c17-4a72-9465-ace4dca8dbc9"
   },
   "outputs": [
    {
     "data": {
      "text/plain": [
       "(65534, 21)"
      ]
     },
     "execution_count": 3,
     "metadata": {
      "tags": []
     },
     "output_type": "execute_result"
    }
   ],
   "source": [
    "data.shape"
   ]
  },
  {
   "cell_type": "markdown",
   "metadata": {
    "colab_type": "text",
    "id": "xz14x6SUJ15v"
   },
   "source": [
    "since 'Index' will do nothing in the data , lets drop it"
   ]
  },
  {
   "cell_type": "code",
   "execution_count": 0,
   "metadata": {
    "colab": {},
    "colab_type": "code",
    "id": "LoZSlxSIJ15z"
   },
   "outputs": [],
   "source": [
    "data.drop(['Index'],axis=1, inplace=True)"
   ]
  },
  {
   "cell_type": "markdown",
   "metadata": {
    "colab_type": "text",
    "id": "9e-14oOKJ159"
   },
   "source": [
    "then check data "
   ]
  },
  {
   "cell_type": "code",
   "execution_count": 5,
   "metadata": {
    "colab": {
     "base_uri": "https://localhost:8080/",
     "height": 360
    },
    "colab_type": "code",
    "id": "PYiiJu6yJ16B",
    "outputId": "2b9d10b9-9f35-44d9-df50-5b4d064d3412"
   },
   "outputs": [
    {
     "data": {
      "text/html": [
       "<div>\n",
       "<style scoped>\n",
       "    .dataframe tbody tr th:only-of-type {\n",
       "        vertical-align: middle;\n",
       "    }\n",
       "\n",
       "    .dataframe tbody tr th {\n",
       "        vertical-align: top;\n",
       "    }\n",
       "\n",
       "    .dataframe thead th {\n",
       "        text-align: right;\n",
       "    }\n",
       "</style>\n",
       "<table border=\"1\" class=\"dataframe\">\n",
       "  <thead>\n",
       "    <tr style=\"text-align: right;\">\n",
       "      <th></th>\n",
       "      <th>Initial Date</th>\n",
       "      <th>Final Date</th>\n",
       "      <th>Region</th>\n",
       "      <th>State</th>\n",
       "      <th>Product</th>\n",
       "      <th>Number of searches</th>\n",
       "      <th>Unit of Measurment</th>\n",
       "      <th>Mean Price</th>\n",
       "      <th>Default Price</th>\n",
       "      <th>Minimum Price</th>\n",
       "      <th>Maximum Price</th>\n",
       "      <th>Mean Margin</th>\n",
       "      <th>Price Standar Deviation</th>\n",
       "      <th>Mean Price Distribution</th>\n",
       "      <th>Default Price Distribution</th>\n",
       "      <th>Minimum Price Distribution</th>\n",
       "      <th>Maximum Price Distribution</th>\n",
       "      <th>Distribution Standard Deviation</th>\n",
       "      <th>M Factor</th>\n",
       "      <th>Year</th>\n",
       "    </tr>\n",
       "  </thead>\n",
       "  <tbody>\n",
       "    <tr>\n",
       "      <th>0</th>\n",
       "      <td>2004-05-09</td>\n",
       "      <td>2004-05-15</td>\n",
       "      <td>CENTRO OESTE</td>\n",
       "      <td>DISTRITO FEDERAL</td>\n",
       "      <td>ETANOL HIDRATADO</td>\n",
       "      <td>127</td>\n",
       "      <td>R$/l</td>\n",
       "      <td>1.288</td>\n",
       "      <td>0.016</td>\n",
       "      <td>1.19</td>\n",
       "      <td>1.350</td>\n",
       "      <td>0.463</td>\n",
       "      <td>0.012</td>\n",
       "      <td>0.825</td>\n",
       "      <td>0.11</td>\n",
       "      <td>0.4201</td>\n",
       "      <td>0.9666</td>\n",
       "      <td>0.133</td>\n",
       "      <td>5</td>\n",
       "      <td>2004</td>\n",
       "    </tr>\n",
       "    <tr>\n",
       "      <th>1</th>\n",
       "      <td>2004-05-09</td>\n",
       "      <td>2004-05-15</td>\n",
       "      <td>CENTRO OESTE</td>\n",
       "      <td>GOIAS</td>\n",
       "      <td>ETANOL HIDRATADO</td>\n",
       "      <td>387</td>\n",
       "      <td>R$/l</td>\n",
       "      <td>1.162</td>\n",
       "      <td>0.114</td>\n",
       "      <td>0.89</td>\n",
       "      <td>1.449</td>\n",
       "      <td>0.399</td>\n",
       "      <td>0.098</td>\n",
       "      <td>0.763</td>\n",
       "      <td>0.088</td>\n",
       "      <td>0.5013</td>\n",
       "      <td>1.05</td>\n",
       "      <td>0.115</td>\n",
       "      <td>5</td>\n",
       "      <td>2004</td>\n",
       "    </tr>\n",
       "    <tr>\n",
       "      <th>2</th>\n",
       "      <td>2004-05-09</td>\n",
       "      <td>2004-05-15</td>\n",
       "      <td>CENTRO OESTE</td>\n",
       "      <td>MATO GROSSO</td>\n",
       "      <td>ETANOL HIDRATADO</td>\n",
       "      <td>192</td>\n",
       "      <td>R$/l</td>\n",
       "      <td>1.389</td>\n",
       "      <td>0.097</td>\n",
       "      <td>1.18</td>\n",
       "      <td>1.760</td>\n",
       "      <td>0.419</td>\n",
       "      <td>0.070</td>\n",
       "      <td>0.97</td>\n",
       "      <td>0.095</td>\n",
       "      <td>0.5614</td>\n",
       "      <td>1.161</td>\n",
       "      <td>0.098</td>\n",
       "      <td>5</td>\n",
       "      <td>2004</td>\n",
       "    </tr>\n",
       "    <tr>\n",
       "      <th>3</th>\n",
       "      <td>2004-05-09</td>\n",
       "      <td>2004-05-15</td>\n",
       "      <td>CENTRO OESTE</td>\n",
       "      <td>MATO GROSSO DO SUL</td>\n",
       "      <td>ETANOL HIDRATADO</td>\n",
       "      <td>162</td>\n",
       "      <td>R$/l</td>\n",
       "      <td>1.262</td>\n",
       "      <td>0.070</td>\n",
       "      <td>1.09</td>\n",
       "      <td>1.509</td>\n",
       "      <td>0.432</td>\n",
       "      <td>0.055</td>\n",
       "      <td>0.83</td>\n",
       "      <td>0.119</td>\n",
       "      <td>0.5991</td>\n",
       "      <td>1.22242</td>\n",
       "      <td>0.143</td>\n",
       "      <td>5</td>\n",
       "      <td>2004</td>\n",
       "    </tr>\n",
       "    <tr>\n",
       "      <th>4</th>\n",
       "      <td>2004-05-09</td>\n",
       "      <td>2004-05-15</td>\n",
       "      <td>NORDESTE</td>\n",
       "      <td>ALAGOAS</td>\n",
       "      <td>ETANOL HIDRATADO</td>\n",
       "      <td>103</td>\n",
       "      <td>R$/l</td>\n",
       "      <td>1.181</td>\n",
       "      <td>0.078</td>\n",
       "      <td>1.05</td>\n",
       "      <td>1.400</td>\n",
       "      <td>0.24</td>\n",
       "      <td>0.066</td>\n",
       "      <td>0.941</td>\n",
       "      <td>0.077</td>\n",
       "      <td>0.7441</td>\n",
       "      <td>1.0317</td>\n",
       "      <td>0.082</td>\n",
       "      <td>5</td>\n",
       "      <td>2004</td>\n",
       "    </tr>\n",
       "  </tbody>\n",
       "</table>\n",
       "</div>"
      ],
      "text/plain": [
       "  Initial Date Final Date  ... M Factor  Year\n",
       "0   2004-05-09 2004-05-15  ...        5  2004\n",
       "1   2004-05-09 2004-05-15  ...        5  2004\n",
       "2   2004-05-09 2004-05-15  ...        5  2004\n",
       "3   2004-05-09 2004-05-15  ...        5  2004\n",
       "4   2004-05-09 2004-05-15  ...        5  2004\n",
       "\n",
       "[5 rows x 20 columns]"
      ]
     },
     "execution_count": 5,
     "metadata": {
      "tags": []
     },
     "output_type": "execute_result"
    }
   ],
   "source": [
    "data.head()"
   ]
  },
  {
   "cell_type": "markdown",
   "metadata": {
    "colab_type": "text",
    "id": "ygVWO3J8J16K"
   },
   "source": [
    "__________\n",
    "\n",
    "\n",
    "# Data Processing\n",
    "\n",
    "now we need to know more about he data , lets use describe tool"
   ]
  },
  {
   "cell_type": "code",
   "execution_count": 6,
   "metadata": {
    "colab": {
     "base_uri": "https://localhost:8080/",
     "height": 314
    },
    "colab_type": "code",
    "id": "O8ZpfC7iJ16N",
    "outputId": "c995ea76-b23d-4f07-97cc-ea62a0a78a4c"
   },
   "outputs": [
    {
     "data": {
      "text/html": [
       "<div>\n",
       "<style scoped>\n",
       "    .dataframe tbody tr th:only-of-type {\n",
       "        vertical-align: middle;\n",
       "    }\n",
       "\n",
       "    .dataframe tbody tr th {\n",
       "        vertical-align: top;\n",
       "    }\n",
       "\n",
       "    .dataframe thead th {\n",
       "        text-align: right;\n",
       "    }\n",
       "</style>\n",
       "<table border=\"1\" class=\"dataframe\">\n",
       "  <thead>\n",
       "    <tr style=\"text-align: right;\">\n",
       "      <th></th>\n",
       "      <th>Number of searches</th>\n",
       "      <th>Mean Price</th>\n",
       "      <th>Default Price</th>\n",
       "      <th>Minimum Price</th>\n",
       "      <th>Maximum Price</th>\n",
       "      <th>Price Standar Deviation</th>\n",
       "      <th>M Factor</th>\n",
       "      <th>Year</th>\n",
       "    </tr>\n",
       "  </thead>\n",
       "  <tbody>\n",
       "    <tr>\n",
       "      <th>count</th>\n",
       "      <td>65534.000000</td>\n",
       "      <td>65534.000000</td>\n",
       "      <td>65534.000000</td>\n",
       "      <td>65534.000000</td>\n",
       "      <td>65534.000000</td>\n",
       "      <td>65534.000000</td>\n",
       "      <td>65534.000000</td>\n",
       "      <td>65534.000000</td>\n",
       "    </tr>\n",
       "    <tr>\n",
       "      <th>mean</th>\n",
       "      <td>276.064302</td>\n",
       "      <td>9.419979</td>\n",
       "      <td>0.500583</td>\n",
       "      <td>8.258743</td>\n",
       "      <td>10.728551</td>\n",
       "      <td>0.044842</td>\n",
       "      <td>6.509613</td>\n",
       "      <td>2008.929243</td>\n",
       "    </tr>\n",
       "    <tr>\n",
       "      <th>std</th>\n",
       "      <td>459.770339</td>\n",
       "      <td>14.292417</td>\n",
       "      <td>0.884875</td>\n",
       "      <td>12.383575</td>\n",
       "      <td>16.388597</td>\n",
       "      <td>0.024480</td>\n",
       "      <td>3.474459</td>\n",
       "      <td>2.925159</td>\n",
       "    </tr>\n",
       "    <tr>\n",
       "      <th>min</th>\n",
       "      <td>1.000000</td>\n",
       "      <td>0.766000</td>\n",
       "      <td>0.000000</td>\n",
       "      <td>0.590000</td>\n",
       "      <td>0.999000</td>\n",
       "      <td>0.000000</td>\n",
       "      <td>1.000000</td>\n",
       "      <td>2004.000000</td>\n",
       "    </tr>\n",
       "    <tr>\n",
       "      <th>25%</th>\n",
       "      <td>55.000000</td>\n",
       "      <td>1.863000</td>\n",
       "      <td>0.063000</td>\n",
       "      <td>1.740000</td>\n",
       "      <td>2.100000</td>\n",
       "      <td>0.029000</td>\n",
       "      <td>3.000000</td>\n",
       "      <td>2006.000000</td>\n",
       "    </tr>\n",
       "    <tr>\n",
       "      <th>50%</th>\n",
       "      <td>119.000000</td>\n",
       "      <td>2.288000</td>\n",
       "      <td>0.099000</td>\n",
       "      <td>2.110000</td>\n",
       "      <td>2.580000</td>\n",
       "      <td>0.041000</td>\n",
       "      <td>7.000000</td>\n",
       "      <td>2009.000000</td>\n",
       "    </tr>\n",
       "    <tr>\n",
       "      <th>75%</th>\n",
       "      <td>292.000000</td>\n",
       "      <td>2.852000</td>\n",
       "      <td>0.171000</td>\n",
       "      <td>2.689000</td>\n",
       "      <td>3.190000</td>\n",
       "      <td>0.059000</td>\n",
       "      <td>10.000000</td>\n",
       "      <td>2012.000000</td>\n",
       "    </tr>\n",
       "    <tr>\n",
       "      <th>max</th>\n",
       "      <td>4167.000000</td>\n",
       "      <td>52.949000</td>\n",
       "      <td>7.042000</td>\n",
       "      <td>47.000000</td>\n",
       "      <td>70.000000</td>\n",
       "      <td>0.395000</td>\n",
       "      <td>12.000000</td>\n",
       "      <td>2014.000000</td>\n",
       "    </tr>\n",
       "  </tbody>\n",
       "</table>\n",
       "</div>"
      ],
      "text/plain": [
       "       Number of searches    Mean Price  ...      M Factor          Year\n",
       "count        65534.000000  65534.000000  ...  65534.000000  65534.000000\n",
       "mean           276.064302      9.419979  ...      6.509613   2008.929243\n",
       "std            459.770339     14.292417  ...      3.474459      2.925159\n",
       "min              1.000000      0.766000  ...      1.000000   2004.000000\n",
       "25%             55.000000      1.863000  ...      3.000000   2006.000000\n",
       "50%            119.000000      2.288000  ...      7.000000   2009.000000\n",
       "75%            292.000000      2.852000  ...     10.000000   2012.000000\n",
       "max           4167.000000     52.949000  ...     12.000000   2014.000000\n",
       "\n",
       "[8 rows x 8 columns]"
      ]
     },
     "execution_count": 6,
     "metadata": {
      "tags": []
     },
     "output_type": "execute_result"
    }
   ],
   "source": [
    "data.describe()"
   ]
  },
  {
   "cell_type": "markdown",
   "metadata": {
    "colab_type": "text",
    "id": "hbqiY_wqJ16Y"
   },
   "source": [
    "it`s clear that python will not calculate categorical data , only numerical values ,  also it looks we need to standrardize the numbers , but this will be done later\n",
    "\n",
    "now lets check the types of features & to check if it contain nulls"
   ]
  },
  {
   "cell_type": "code",
   "execution_count": 7,
   "metadata": {
    "colab": {
     "base_uri": "https://localhost:8080/",
     "height": 442
    },
    "colab_type": "code",
    "id": "rx8lDviUJ16b",
    "outputId": "0720e634-edae-49b0-c8aa-9d116809144b"
   },
   "outputs": [
    {
     "name": "stdout",
     "output_type": "stream",
     "text": [
      "<class 'pandas.core.frame.DataFrame'>\n",
      "RangeIndex: 65534 entries, 0 to 65533\n",
      "Data columns (total 20 columns):\n",
      "Initial Date                       65534 non-null datetime64[ns]\n",
      "Final Date                         65534 non-null datetime64[ns]\n",
      "Region                             65534 non-null object\n",
      "State                              65534 non-null object\n",
      "Product                            65534 non-null object\n",
      "Number of searches                 65534 non-null int64\n",
      "Unit of Measurment                 65534 non-null object\n",
      "Mean Price                         65534 non-null float64\n",
      "Default Price                      65534 non-null float64\n",
      "Minimum Price                      65534 non-null float64\n",
      "Maximum Price                      65534 non-null float64\n",
      "Mean Margin                        65534 non-null object\n",
      "Price Standar Deviation            65534 non-null float64\n",
      "Mean Price Distribution            65534 non-null object\n",
      "Default Price Distribution         65534 non-null object\n",
      "Minimum Price Distribution         65534 non-null object\n",
      "Maximum Price Distribution         65534 non-null object\n",
      "Distribution Standard Deviation    65534 non-null object\n",
      "M Factor                           65534 non-null int64\n",
      "Year                               65534 non-null int64\n",
      "dtypes: datetime64[ns](2), float64(5), int64(3), object(10)\n",
      "memory usage: 10.0+ MB\n"
     ]
    }
   ],
   "source": [
    "data.info()"
   ]
  },
  {
   "cell_type": "markdown",
   "metadata": {
    "colab_type": "text",
    "id": "wFkSEI04J16p"
   },
   "source": [
    "________\n",
    "\n",
    "we`re lucky to have no Null data , but it looks that several features its type is (object) . which might contain letters & numbers together \n",
    "\n",
    "\n",
    "lets first check 'Mean Margin' feature , which written here as Object , instead of float64\n"
   ]
  },
  {
   "cell_type": "code",
   "execution_count": 8,
   "metadata": {
    "colab": {
     "base_uri": "https://localhost:8080/",
     "height": 1000
    },
    "colab_type": "code",
    "id": "deOrMhVKJ162",
    "outputId": "1d169439-8e70-441a-9fa4-46e2c1dee3a3"
   },
   "outputs": [
    {
     "data": {
      "text/plain": [
       "0        0.463\n",
       "1        0.399\n",
       "2        0.419\n",
       "3        0.432\n",
       "4         0.24\n",
       "5        0.426\n",
       "6        0.353\n",
       "7        0.515\n",
       "8        0.353\n",
       "9        0.277\n",
       "10       0.494\n",
       "11       0.332\n",
       "12       0.321\n",
       "13       0.689\n",
       "14       0.412\n",
       "15       0.441\n",
       "16       0.536\n",
       "17       0.533\n",
       "18       0.202\n",
       "19       0.546\n",
       "20       0.267\n",
       "21       0.389\n",
       "22       0.312\n",
       "23       0.198\n",
       "24       0.255\n",
       "25       0.332\n",
       "26       0.416\n",
       "27       0.448\n",
       "28       0.421\n",
       "29       0.401\n",
       "         ...  \n",
       "65504        -\n",
       "65505    0.446\n",
       "65506    0.322\n",
       "65507    0.457\n",
       "65508    0.522\n",
       "65509    0.378\n",
       "65510    0.286\n",
       "65511     0.47\n",
       "65512        -\n",
       "65513    0.241\n",
       "65514    0.259\n",
       "65515    0.175\n",
       "65516    0.272\n",
       "65517    0.202\n",
       "65518    0.256\n",
       "65519    0.236\n",
       "65520    0.297\n",
       "65521    0.206\n",
       "65522    0.375\n",
       "65523    0.298\n",
       "65524    0.257\n",
       "65525    0.216\n",
       "65526    0.209\n",
       "65527    0.224\n",
       "65528    0.231\n",
       "65529    0.142\n",
       "65530    0.304\n",
       "65531    0.341\n",
       "65532     0.25\n",
       "65533    0.267\n",
       "Name: Mean Margin, Length: 65534, dtype: object"
      ]
     },
     "execution_count": 8,
     "metadata": {
      "tags": []
     },
     "output_type": "execute_result"
    }
   ],
   "source": [
    "data['Mean Margin']"
   ]
  },
  {
   "cell_type": "markdown",
   "metadata": {
    "colab_type": "text",
    "id": "p8ulgJHOJ17A"
   },
   "source": [
    "________\n",
    "\n",
    "it looks that some rows contain (-) which might refer to the null value , lets see how many (-) exists\n"
   ]
  },
  {
   "cell_type": "code",
   "execution_count": 9,
   "metadata": {
    "colab": {
     "base_uri": "https://localhost:8080/",
     "height": 34
    },
    "colab_type": "code",
    "id": "dhuNg3uZJ17C",
    "outputId": "99b04272-7008-4ec4-bad6-a7c77246b85b"
   },
   "outputs": [
    {
     "name": "stdout",
     "output_type": "stream",
     "text": [
      "There is 1493 null value here\n"
     ]
    }
   ],
   "source": [
    "n = 0\n",
    "for i in range(data.shape[0]) : \n",
    "    if str(data['Mean Margin'][i]) == '-' : \n",
    "        n+=1\n",
    "\n",
    "print('There is {} null value here'.format(n))\n",
    "    "
   ]
  },
  {
   "cell_type": "markdown",
   "metadata": {
    "colab_type": "text",
    "id": "KzjW6TmvJ17L"
   },
   "source": [
    "______\n",
    "\n",
    "around 1500 null value in Mean Margin only , so lets use simple equation to fill the nulls"
   ]
  },
  {
   "cell_type": "code",
   "execution_count": 10,
   "metadata": {
    "colab": {
     "base_uri": "https://localhost:8080/",
     "height": 139
    },
    "colab_type": "code",
    "id": "mxz6yKuIJ17O",
    "outputId": "2c1eeb7b-ab0b-47e3-d042-b526c59fe5f5"
   },
   "outputs": [
    {
     "name": "stdout",
     "output_type": "stream",
     "text": [
      "the mean is 1.7522229353070857\n"
     ]
    },
    {
     "name": "stderr",
     "output_type": "stream",
     "text": [
      "/usr/local/lib/python3.6/dist-packages/ipykernel_launcher.py:15: SettingWithCopyWarning: \n",
      "A value is trying to be set on a copy of a slice from a DataFrame\n",
      "\n",
      "See the caveats in the documentation: http://pandas.pydata.org/pandas-docs/stable/indexing.html#indexing-view-versus-copy\n",
      "  from ipykernel import kernelapp as app\n"
     ]
    }
   ],
   "source": [
    "summ = 0\n",
    "n = 0\n",
    "\n",
    "for i in range(data.shape[0]) : \n",
    "    if not str(data['Mean Margin'][i]) == '-' : \n",
    "        summ += float(data['Mean Margin'][i])\n",
    "        n+=1\n",
    "\n",
    "the_mean = summ/ n\n",
    "\n",
    "print('the mean is {}'.format(the_mean))\n",
    "\n",
    "for i in range(data.shape[0]) : \n",
    "    if str(data['Mean Margin'][i]) == '-' : \n",
    "      data['Mean Margin'][i] = the_mean\n",
    "        \n"
   ]
  },
  {
   "cell_type": "markdown",
   "metadata": {
    "colab_type": "text",
    "id": "SLy-pJ9HJ17Y"
   },
   "source": [
    "_____\n",
    "\n",
    "now lets check if there is any nulls exists"
   ]
  },
  {
   "cell_type": "code",
   "execution_count": 11,
   "metadata": {
    "colab": {
     "base_uri": "https://localhost:8080/",
     "height": 34
    },
    "colab_type": "code",
    "id": "rD2RmCxmJ17b",
    "outputId": "8170fc49-13ec-4152-8b70-f8c26c2b9ba3"
   },
   "outputs": [
    {
     "name": "stdout",
     "output_type": "stream",
     "text": [
      "There is 0 null value here\n"
     ]
    }
   ],
   "source": [
    "n = 0\n",
    "for i in range(data.shape[0]) : \n",
    "    if str(data['Mean Margin'][i]) == '-' : \n",
    "        n+=1\n",
    "\n",
    "print('There is {} null value here'.format(n))"
   ]
  },
  {
   "cell_type": "markdown",
   "metadata": {
    "colab_type": "text",
    "id": "uWxhFzPdJ17k"
   },
   "source": [
    "___________\n",
    "\n",
    "\n",
    "great . now lets check if it become \"float64\" or not yet \n"
   ]
  },
  {
   "cell_type": "code",
   "execution_count": 12,
   "metadata": {
    "colab": {
     "base_uri": "https://localhost:8080/",
     "height": 442
    },
    "colab_type": "code",
    "id": "F7vHf17VJ17o",
    "outputId": "675e3528-f156-4250-efe5-0083bf272a3c"
   },
   "outputs": [
    {
     "name": "stdout",
     "output_type": "stream",
     "text": [
      "<class 'pandas.core.frame.DataFrame'>\n",
      "RangeIndex: 65534 entries, 0 to 65533\n",
      "Data columns (total 20 columns):\n",
      "Initial Date                       65534 non-null datetime64[ns]\n",
      "Final Date                         65534 non-null datetime64[ns]\n",
      "Region                             65534 non-null object\n",
      "State                              65534 non-null object\n",
      "Product                            65534 non-null object\n",
      "Number of searches                 65534 non-null int64\n",
      "Unit of Measurment                 65534 non-null object\n",
      "Mean Price                         65534 non-null float64\n",
      "Default Price                      65534 non-null float64\n",
      "Minimum Price                      65534 non-null float64\n",
      "Maximum Price                      65534 non-null float64\n",
      "Mean Margin                        65534 non-null object\n",
      "Price Standar Deviation            65534 non-null float64\n",
      "Mean Price Distribution            65534 non-null object\n",
      "Default Price Distribution         65534 non-null object\n",
      "Minimum Price Distribution         65534 non-null object\n",
      "Maximum Price Distribution         65534 non-null object\n",
      "Distribution Standard Deviation    65534 non-null object\n",
      "M Factor                           65534 non-null int64\n",
      "Year                               65534 non-null int64\n",
      "dtypes: datetime64[ns](2), float64(5), int64(3), object(10)\n",
      "memory usage: 10.0+ MB\n"
     ]
    }
   ],
   "source": [
    "data.info()"
   ]
  },
  {
   "cell_type": "markdown",
   "metadata": {
    "colab_type": "text",
    "id": "ug-z8zxtJ170"
   },
   "source": [
    "________\n",
    "\n",
    "although it's still written here as object , let's check if any cell contain non-numbers here\n",
    "\n",
    "\n"
   ]
  },
  {
   "cell_type": "code",
   "execution_count": 13,
   "metadata": {
    "colab": {
     "base_uri": "https://localhost:8080/",
     "height": 34
    },
    "colab_type": "code",
    "id": "TNCEFDdKJ173",
    "outputId": "d7d05a11-6a88-4ed7-998a-cf3bbcdeb2ca"
   },
   "outputs": [
    {
     "name": "stdout",
     "output_type": "stream",
     "text": [
      "There is 0 cell with zero value\n"
     ]
    }
   ],
   "source": [
    "n = 0\n",
    "for i in range(data.shape[0]) : \n",
    "    if float(data['Mean Margin'][i]) == 0 : \n",
    "        n+=1\n",
    "\n",
    "print('There is {} cell with zero value'.format(n))"
   ]
  },
  {
   "cell_type": "markdown",
   "metadata": {
    "colab_type": "text",
    "id": "i-kA724bJ18B"
   },
   "source": [
    "_____\n",
    "\n",
    "great , now lets repeat the same step in other non-categorical features which written as \"Object\" ,like  : \n",
    "\n",
    "Mean Price Distribution            \n",
    "Default Price Distribution         \n",
    "Minimum Price Distribution         \n",
    "Maximum Price Distribution         \n",
    "Distribution Standard Deviation    "
   ]
  },
  {
   "cell_type": "code",
   "execution_count": 14,
   "metadata": {
    "colab": {
     "base_uri": "https://localhost:8080/",
     "height": 102
    },
    "colab_type": "code",
    "id": "WZcOSdO-J18F",
    "outputId": "1a3a0fd7-7ad7-4f8c-9df6-1cdfe52f647f"
   },
   "outputs": [
    {
     "name": "stdout",
     "output_type": "stream",
     "text": [
      "There is 1471 null value here\n",
      "There is 1471 null value here\n",
      "There is 1471 null value here\n",
      "There is 1471 null value here\n",
      "There is 1471 null value here\n"
     ]
    }
   ],
   "source": [
    "a = b = c= d = e  = 0\n",
    "for i in range(data.shape[0]) : \n",
    "    if str(data['Mean Price Distribution'][i]) == '-' : \n",
    "        a+=1\n",
    "    if str(data['Default Price Distribution'][i]) == '-' : \n",
    "        b+=1\n",
    "    if str(data['Minimum Price Distribution'][i]) == '-' : \n",
    "        c+=1\n",
    "    if str(data['Maximum Price Distribution'][i]) == '-' : \n",
    "        d+=1\n",
    "    if str(data['Distribution Standard Deviation'][i]) == '-' :  \n",
    "        e+=1\n",
    "\n",
    "print('There is {} null value here'.format(a))\n",
    "print('There is {} null value here'.format(b))\n",
    "print('There is {} null value here'.format(c))                \n",
    "print('There is {} null value here'.format(d))\n",
    "print('There is {} null value here'.format(e))                \n",
    "    "
   ]
  },
  {
   "cell_type": "markdown",
   "metadata": {
    "colab_type": "text",
    "id": "c-apBFL0J18T"
   },
   "source": [
    "______\n",
    "\n",
    "Then lets make the mean in those cells in the same way  (this might take few mins)"
   ]
  },
  {
   "cell_type": "code",
   "execution_count": 15,
   "metadata": {
    "colab": {
     "base_uri": "https://localhost:8080/",
     "height": 377
    },
    "colab_type": "code",
    "id": "YOoOnM_LJ18W",
    "outputId": "65128ab5-6aa7-40e5-8a71-947208189b25"
   },
   "outputs": [
    {
     "name": "stderr",
     "output_type": "stream",
     "text": [
      "/usr/local/lib/python3.6/dist-packages/ipykernel_launcher.py:31: SettingWithCopyWarning: \n",
      "A value is trying to be set on a copy of a slice from a DataFrame\n",
      "\n",
      "See the caveats in the documentation: http://pandas.pydata.org/pandas-docs/stable/indexing.html#indexing-view-versus-copy\n",
      "/usr/local/lib/python3.6/dist-packages/ipykernel_launcher.py:34: SettingWithCopyWarning: \n",
      "A value is trying to be set on a copy of a slice from a DataFrame\n",
      "\n",
      "See the caveats in the documentation: http://pandas.pydata.org/pandas-docs/stable/indexing.html#indexing-view-versus-copy\n",
      "/usr/local/lib/python3.6/dist-packages/ipykernel_launcher.py:37: SettingWithCopyWarning: \n",
      "A value is trying to be set on a copy of a slice from a DataFrame\n",
      "\n",
      "See the caveats in the documentation: http://pandas.pydata.org/pandas-docs/stable/indexing.html#indexing-view-versus-copy\n",
      "/usr/local/lib/python3.6/dist-packages/ipykernel_launcher.py:40: SettingWithCopyWarning: \n",
      "A value is trying to be set on a copy of a slice from a DataFrame\n",
      "\n",
      "See the caveats in the documentation: http://pandas.pydata.org/pandas-docs/stable/indexing.html#indexing-view-versus-copy\n",
      "/usr/local/lib/python3.6/dist-packages/ipykernel_launcher.py:43: SettingWithCopyWarning: \n",
      "A value is trying to be set on a copy of a slice from a DataFrame\n",
      "\n",
      "See the caveats in the documentation: http://pandas.pydata.org/pandas-docs/stable/indexing.html#indexing-view-versus-copy\n"
     ]
    }
   ],
   "source": [
    "a_summ = b_summ = c_summ = d_summ = e_summ = 0\n",
    "n = 1471\n",
    "\n",
    "for i in range(data.shape[0]) : \n",
    "    if not str(data['Mean Price Distribution'][i]) == '-' : \n",
    "        a_summ += float(data['Mean Price Distribution'][i])\n",
    "        \n",
    "    if not str(data['Default Price Distribution'][i]) == '-' : \n",
    "        b_summ += float(data['Default Price Distribution'][i])\n",
    "\n",
    "    if not str(data['Minimum Price Distribution'][i]) == '-' : \n",
    "        c_summ += float(data['Minimum Price Distribution'][i])\n",
    "        \n",
    "    if not str(data['Maximum Price Distribution'][i]) == '-' : \n",
    "        d_summ += float(data['Maximum Price Distribution'][i])\n",
    "        \n",
    "    if not str(data['Distribution Standard Deviation'][i]) == '-' : \n",
    "        e_summ += float(data['Distribution Standard Deviation'][i])\n",
    "        \n",
    "\n",
    "      \n",
    "        \n",
    "a_mean = a_summ/ n\n",
    "b_mean = b_summ/ n\n",
    "c_mean = c_summ/ n\n",
    "d_mean = d_summ/ n\n",
    "e_mean = e_summ/ n\n",
    "\n",
    "for i in range(data.shape[0]) : \n",
    "    if str(data['Mean Price Distribution'][i]) == '-' : \n",
    "        data['Mean Price Distribution'][i] = a_mean\n",
    "\n",
    "    if str(data['Default Price Distribution'][i]) == '-' : \n",
    "        data['Default Price Distribution'][i] = b_mean\n",
    "        \n",
    "    if str(data['Minimum Price Distribution'][i]) == '-' : \n",
    "        data['Minimum Price Distribution'][i] = c_mean\n",
    "        \n",
    "    if str(data['Maximum Price Distribution'][i]) == '-' : \n",
    "        data['Maximum Price Distribution'][i] = d_mean\n",
    "    \n",
    "    if str(data['Distribution Standard Deviation'][i]) == '-' : \n",
    "        data['Distribution Standard Deviation'][i] = e_mean\n",
    "        \n",
    "\n",
    "\n",
    "\n",
    "        "
   ]
  },
  {
   "cell_type": "markdown",
   "metadata": {
    "colab_type": "text",
    "id": "yiqG0o3gJ18j"
   },
   "source": [
    "____________________\n",
    "\n",
    "# Categorical Features\n",
    "\n",
    "now lets move to convert Categorical features , into numerical values , so we can enter them in the model\n",
    "\n",
    "we have 4 Categorical features , which are : \n",
    "\n",
    "Region  ,  State    ,   Product    ,   Unit of Measurment\n",
    "\n",
    "\n",
    "so in each feature , we'll check unique values , then convert it using dictionary & map fucntion , in a new column , and them drop the original column\n",
    "\n",
    "let's start with Region : \n"
   ]
  },
  {
   "cell_type": "code",
   "execution_count": 16,
   "metadata": {
    "colab": {
     "base_uri": "https://localhost:8080/",
     "height": 51
    },
    "colab_type": "code",
    "id": "TsWgPBLRJ18r",
    "outputId": "6b3be015-dfd4-4e0f-eabb-ceb6618dc297"
   },
   "outputs": [
    {
     "data": {
      "text/plain": [
       "array(['CENTRO OESTE', 'NORDESTE', 'NORTE', 'SUDESTE', 'SUL'],\n",
       "      dtype=object)"
      ]
     },
     "execution_count": 16,
     "metadata": {
      "tags": []
     },
     "output_type": "execute_result"
    }
   ],
   "source": [
    "data['Region'].unique()"
   ]
  },
  {
   "cell_type": "code",
   "execution_count": 0,
   "metadata": {
    "colab": {},
    "colab_type": "code",
    "id": "QyoUF9HHJ19D"
   },
   "outputs": [],
   "source": [
    "Region_dict = {'CENTRO OESTE': 0,'NORDESTE':1, 'NORTE':2, 'SUDESTE':3, 'SUL':4}\n",
    "data['Region Code'] = data['Region'].map(Region_dict)\n",
    "\n",
    "data.drop(['Region'],axis=1, inplace=True)\n"
   ]
  },
  {
   "cell_type": "markdown",
   "metadata": {
    "colab_type": "text",
    "id": "1YuovX0AJ19R"
   },
   "source": [
    "\n",
    "\n",
    "now lets check the data itsself \n"
   ]
  },
  {
   "cell_type": "code",
   "execution_count": 18,
   "metadata": {
    "colab": {
     "base_uri": "https://localhost:8080/",
     "height": 360
    },
    "colab_type": "code",
    "id": "QHcN6C8qJ19U",
    "outputId": "90da92fc-e067-40cf-bc93-f40f4e67785f"
   },
   "outputs": [
    {
     "data": {
      "text/html": [
       "<div>\n",
       "<style scoped>\n",
       "    .dataframe tbody tr th:only-of-type {\n",
       "        vertical-align: middle;\n",
       "    }\n",
       "\n",
       "    .dataframe tbody tr th {\n",
       "        vertical-align: top;\n",
       "    }\n",
       "\n",
       "    .dataframe thead th {\n",
       "        text-align: right;\n",
       "    }\n",
       "</style>\n",
       "<table border=\"1\" class=\"dataframe\">\n",
       "  <thead>\n",
       "    <tr style=\"text-align: right;\">\n",
       "      <th></th>\n",
       "      <th>Initial Date</th>\n",
       "      <th>Final Date</th>\n",
       "      <th>State</th>\n",
       "      <th>Product</th>\n",
       "      <th>Number of searches</th>\n",
       "      <th>Unit of Measurment</th>\n",
       "      <th>Mean Price</th>\n",
       "      <th>Default Price</th>\n",
       "      <th>Minimum Price</th>\n",
       "      <th>Maximum Price</th>\n",
       "      <th>Mean Margin</th>\n",
       "      <th>Price Standar Deviation</th>\n",
       "      <th>Mean Price Distribution</th>\n",
       "      <th>Default Price Distribution</th>\n",
       "      <th>Minimum Price Distribution</th>\n",
       "      <th>Maximum Price Distribution</th>\n",
       "      <th>Distribution Standard Deviation</th>\n",
       "      <th>M Factor</th>\n",
       "      <th>Year</th>\n",
       "      <th>Region Code</th>\n",
       "    </tr>\n",
       "  </thead>\n",
       "  <tbody>\n",
       "    <tr>\n",
       "      <th>0</th>\n",
       "      <td>2004-05-09</td>\n",
       "      <td>2004-05-15</td>\n",
       "      <td>DISTRITO FEDERAL</td>\n",
       "      <td>ETANOL HIDRATADO</td>\n",
       "      <td>127</td>\n",
       "      <td>R$/l</td>\n",
       "      <td>1.288</td>\n",
       "      <td>0.016</td>\n",
       "      <td>1.19</td>\n",
       "      <td>1.350</td>\n",
       "      <td>0.463</td>\n",
       "      <td>0.012</td>\n",
       "      <td>0.825</td>\n",
       "      <td>0.11</td>\n",
       "      <td>0.4201</td>\n",
       "      <td>0.9666</td>\n",
       "      <td>0.133</td>\n",
       "      <td>5</td>\n",
       "      <td>2004</td>\n",
       "      <td>0</td>\n",
       "    </tr>\n",
       "    <tr>\n",
       "      <th>1</th>\n",
       "      <td>2004-05-09</td>\n",
       "      <td>2004-05-15</td>\n",
       "      <td>GOIAS</td>\n",
       "      <td>ETANOL HIDRATADO</td>\n",
       "      <td>387</td>\n",
       "      <td>R$/l</td>\n",
       "      <td>1.162</td>\n",
       "      <td>0.114</td>\n",
       "      <td>0.89</td>\n",
       "      <td>1.449</td>\n",
       "      <td>0.399</td>\n",
       "      <td>0.098</td>\n",
       "      <td>0.763</td>\n",
       "      <td>0.088</td>\n",
       "      <td>0.5013</td>\n",
       "      <td>1.05</td>\n",
       "      <td>0.115</td>\n",
       "      <td>5</td>\n",
       "      <td>2004</td>\n",
       "      <td>0</td>\n",
       "    </tr>\n",
       "    <tr>\n",
       "      <th>2</th>\n",
       "      <td>2004-05-09</td>\n",
       "      <td>2004-05-15</td>\n",
       "      <td>MATO GROSSO</td>\n",
       "      <td>ETANOL HIDRATADO</td>\n",
       "      <td>192</td>\n",
       "      <td>R$/l</td>\n",
       "      <td>1.389</td>\n",
       "      <td>0.097</td>\n",
       "      <td>1.18</td>\n",
       "      <td>1.760</td>\n",
       "      <td>0.419</td>\n",
       "      <td>0.070</td>\n",
       "      <td>0.97</td>\n",
       "      <td>0.095</td>\n",
       "      <td>0.5614</td>\n",
       "      <td>1.161</td>\n",
       "      <td>0.098</td>\n",
       "      <td>5</td>\n",
       "      <td>2004</td>\n",
       "      <td>0</td>\n",
       "    </tr>\n",
       "    <tr>\n",
       "      <th>3</th>\n",
       "      <td>2004-05-09</td>\n",
       "      <td>2004-05-15</td>\n",
       "      <td>MATO GROSSO DO SUL</td>\n",
       "      <td>ETANOL HIDRATADO</td>\n",
       "      <td>162</td>\n",
       "      <td>R$/l</td>\n",
       "      <td>1.262</td>\n",
       "      <td>0.070</td>\n",
       "      <td>1.09</td>\n",
       "      <td>1.509</td>\n",
       "      <td>0.432</td>\n",
       "      <td>0.055</td>\n",
       "      <td>0.83</td>\n",
       "      <td>0.119</td>\n",
       "      <td>0.5991</td>\n",
       "      <td>1.22242</td>\n",
       "      <td>0.143</td>\n",
       "      <td>5</td>\n",
       "      <td>2004</td>\n",
       "      <td>0</td>\n",
       "    </tr>\n",
       "    <tr>\n",
       "      <th>4</th>\n",
       "      <td>2004-05-09</td>\n",
       "      <td>2004-05-15</td>\n",
       "      <td>ALAGOAS</td>\n",
       "      <td>ETANOL HIDRATADO</td>\n",
       "      <td>103</td>\n",
       "      <td>R$/l</td>\n",
       "      <td>1.181</td>\n",
       "      <td>0.078</td>\n",
       "      <td>1.05</td>\n",
       "      <td>1.400</td>\n",
       "      <td>0.24</td>\n",
       "      <td>0.066</td>\n",
       "      <td>0.941</td>\n",
       "      <td>0.077</td>\n",
       "      <td>0.7441</td>\n",
       "      <td>1.0317</td>\n",
       "      <td>0.082</td>\n",
       "      <td>5</td>\n",
       "      <td>2004</td>\n",
       "      <td>1</td>\n",
       "    </tr>\n",
       "  </tbody>\n",
       "</table>\n",
       "</div>"
      ],
      "text/plain": [
       "  Initial Date Final Date               State  ... M Factor  Year Region Code\n",
       "0   2004-05-09 2004-05-15    DISTRITO FEDERAL  ...        5  2004           0\n",
       "1   2004-05-09 2004-05-15               GOIAS  ...        5  2004           0\n",
       "2   2004-05-09 2004-05-15         MATO GROSSO  ...        5  2004           0\n",
       "3   2004-05-09 2004-05-15  MATO GROSSO DO SUL  ...        5  2004           0\n",
       "4   2004-05-09 2004-05-15             ALAGOAS  ...        5  2004           1\n",
       "\n",
       "[5 rows x 20 columns]"
      ]
     },
     "execution_count": 18,
     "metadata": {
      "tags": []
     },
     "output_type": "execute_result"
    }
   ],
   "source": [
    "data.head()"
   ]
  },
  {
   "cell_type": "markdown",
   "metadata": {
    "colab_type": "text",
    "id": "SAaytAivJ19d"
   },
   "source": [
    "\n",
    "___________________\n",
    "\n",
    "now lets repeat it in State \n"
   ]
  },
  {
   "cell_type": "code",
   "execution_count": 19,
   "metadata": {
    "colab": {
     "base_uri": "https://localhost:8080/",
     "height": 119
    },
    "colab_type": "code",
    "id": "t3D9CIaSJ19g",
    "outputId": "cb265f5d-c081-40ef-ebf5-b7faa657e3dc"
   },
   "outputs": [
    {
     "data": {
      "text/plain": [
       "array(['DISTRITO FEDERAL', 'GOIAS', 'MATO GROSSO', 'MATO GROSSO DO SUL',\n",
       "       'ALAGOAS', 'BAHIA', 'CEARA', 'MARANHAO', 'PARAIBA', 'PERNAMBUCO',\n",
       "       'PIAUI', 'RIO GRANDE DO NORTE', 'SERGIPE', 'ACRE', 'AMAPA',\n",
       "       'AMAZONAS', 'PARA', 'RONDONIA', 'RORAIMA', 'TOCANTINS',\n",
       "       'ESPIRITO SANTO', 'MINAS GERAIS', 'RIO DE JANEIRO', 'SAO PAULO',\n",
       "       'PARANA', 'RIO GRANDE DO SUL', 'SANTA CATARINA'], dtype=object)"
      ]
     },
     "execution_count": 19,
     "metadata": {
      "tags": []
     },
     "output_type": "execute_result"
    }
   ],
   "source": [
    "data['State'].unique()"
   ]
  },
  {
   "cell_type": "code",
   "execution_count": 20,
   "metadata": {
    "colab": {
     "base_uri": "https://localhost:8080/",
     "height": 343
    },
    "colab_type": "code",
    "id": "PiaXNoE7J19r",
    "outputId": "8d0ef9c0-63a6-4fd6-8efc-6a351a2a8aa8"
   },
   "outputs": [
    {
     "data": {
      "text/html": [
       "<div>\n",
       "<style scoped>\n",
       "    .dataframe tbody tr th:only-of-type {\n",
       "        vertical-align: middle;\n",
       "    }\n",
       "\n",
       "    .dataframe tbody tr th {\n",
       "        vertical-align: top;\n",
       "    }\n",
       "\n",
       "    .dataframe thead th {\n",
       "        text-align: right;\n",
       "    }\n",
       "</style>\n",
       "<table border=\"1\" class=\"dataframe\">\n",
       "  <thead>\n",
       "    <tr style=\"text-align: right;\">\n",
       "      <th></th>\n",
       "      <th>Initial Date</th>\n",
       "      <th>Final Date</th>\n",
       "      <th>Product</th>\n",
       "      <th>Number of searches</th>\n",
       "      <th>Unit of Measurment</th>\n",
       "      <th>Mean Price</th>\n",
       "      <th>Default Price</th>\n",
       "      <th>Minimum Price</th>\n",
       "      <th>Maximum Price</th>\n",
       "      <th>Mean Margin</th>\n",
       "      <th>Price Standar Deviation</th>\n",
       "      <th>Mean Price Distribution</th>\n",
       "      <th>Default Price Distribution</th>\n",
       "      <th>Minimum Price Distribution</th>\n",
       "      <th>Maximum Price Distribution</th>\n",
       "      <th>Distribution Standard Deviation</th>\n",
       "      <th>M Factor</th>\n",
       "      <th>Year</th>\n",
       "      <th>Region Code</th>\n",
       "      <th>State Code</th>\n",
       "    </tr>\n",
       "  </thead>\n",
       "  <tbody>\n",
       "    <tr>\n",
       "      <th>0</th>\n",
       "      <td>2004-05-09</td>\n",
       "      <td>2004-05-15</td>\n",
       "      <td>ETANOL HIDRATADO</td>\n",
       "      <td>127</td>\n",
       "      <td>R$/l</td>\n",
       "      <td>1.288</td>\n",
       "      <td>0.016</td>\n",
       "      <td>1.19</td>\n",
       "      <td>1.350</td>\n",
       "      <td>0.463</td>\n",
       "      <td>0.012</td>\n",
       "      <td>0.825</td>\n",
       "      <td>0.11</td>\n",
       "      <td>0.4201</td>\n",
       "      <td>0.9666</td>\n",
       "      <td>0.133</td>\n",
       "      <td>5</td>\n",
       "      <td>2004</td>\n",
       "      <td>0</td>\n",
       "      <td>0</td>\n",
       "    </tr>\n",
       "    <tr>\n",
       "      <th>1</th>\n",
       "      <td>2004-05-09</td>\n",
       "      <td>2004-05-15</td>\n",
       "      <td>ETANOL HIDRATADO</td>\n",
       "      <td>387</td>\n",
       "      <td>R$/l</td>\n",
       "      <td>1.162</td>\n",
       "      <td>0.114</td>\n",
       "      <td>0.89</td>\n",
       "      <td>1.449</td>\n",
       "      <td>0.399</td>\n",
       "      <td>0.098</td>\n",
       "      <td>0.763</td>\n",
       "      <td>0.088</td>\n",
       "      <td>0.5013</td>\n",
       "      <td>1.05</td>\n",
       "      <td>0.115</td>\n",
       "      <td>5</td>\n",
       "      <td>2004</td>\n",
       "      <td>0</td>\n",
       "      <td>1</td>\n",
       "    </tr>\n",
       "    <tr>\n",
       "      <th>2</th>\n",
       "      <td>2004-05-09</td>\n",
       "      <td>2004-05-15</td>\n",
       "      <td>ETANOL HIDRATADO</td>\n",
       "      <td>192</td>\n",
       "      <td>R$/l</td>\n",
       "      <td>1.389</td>\n",
       "      <td>0.097</td>\n",
       "      <td>1.18</td>\n",
       "      <td>1.760</td>\n",
       "      <td>0.419</td>\n",
       "      <td>0.070</td>\n",
       "      <td>0.97</td>\n",
       "      <td>0.095</td>\n",
       "      <td>0.5614</td>\n",
       "      <td>1.161</td>\n",
       "      <td>0.098</td>\n",
       "      <td>5</td>\n",
       "      <td>2004</td>\n",
       "      <td>0</td>\n",
       "      <td>2</td>\n",
       "    </tr>\n",
       "    <tr>\n",
       "      <th>3</th>\n",
       "      <td>2004-05-09</td>\n",
       "      <td>2004-05-15</td>\n",
       "      <td>ETANOL HIDRATADO</td>\n",
       "      <td>162</td>\n",
       "      <td>R$/l</td>\n",
       "      <td>1.262</td>\n",
       "      <td>0.070</td>\n",
       "      <td>1.09</td>\n",
       "      <td>1.509</td>\n",
       "      <td>0.432</td>\n",
       "      <td>0.055</td>\n",
       "      <td>0.83</td>\n",
       "      <td>0.119</td>\n",
       "      <td>0.5991</td>\n",
       "      <td>1.22242</td>\n",
       "      <td>0.143</td>\n",
       "      <td>5</td>\n",
       "      <td>2004</td>\n",
       "      <td>0</td>\n",
       "      <td>3</td>\n",
       "    </tr>\n",
       "    <tr>\n",
       "      <th>4</th>\n",
       "      <td>2004-05-09</td>\n",
       "      <td>2004-05-15</td>\n",
       "      <td>ETANOL HIDRATADO</td>\n",
       "      <td>103</td>\n",
       "      <td>R$/l</td>\n",
       "      <td>1.181</td>\n",
       "      <td>0.078</td>\n",
       "      <td>1.05</td>\n",
       "      <td>1.400</td>\n",
       "      <td>0.24</td>\n",
       "      <td>0.066</td>\n",
       "      <td>0.941</td>\n",
       "      <td>0.077</td>\n",
       "      <td>0.7441</td>\n",
       "      <td>1.0317</td>\n",
       "      <td>0.082</td>\n",
       "      <td>5</td>\n",
       "      <td>2004</td>\n",
       "      <td>1</td>\n",
       "      <td>4</td>\n",
       "    </tr>\n",
       "  </tbody>\n",
       "</table>\n",
       "</div>"
      ],
      "text/plain": [
       "  Initial Date Final Date           Product  ...  Year Region Code  State Code\n",
       "0   2004-05-09 2004-05-15  ETANOL HIDRATADO  ...  2004           0           0\n",
       "1   2004-05-09 2004-05-15  ETANOL HIDRATADO  ...  2004           0           1\n",
       "2   2004-05-09 2004-05-15  ETANOL HIDRATADO  ...  2004           0           2\n",
       "3   2004-05-09 2004-05-15  ETANOL HIDRATADO  ...  2004           0           3\n",
       "4   2004-05-09 2004-05-15  ETANOL HIDRATADO  ...  2004           1           4\n",
       "\n",
       "[5 rows x 20 columns]"
      ]
     },
     "execution_count": 20,
     "metadata": {
      "tags": []
     },
     "output_type": "execute_result"
    }
   ],
   "source": [
    "State_dict = {'DISTRITO FEDERAL':0, 'GOIAS':1, 'MATO GROSSO':2, 'MATO GROSSO DO SUL':3,\n",
    "       'ALAGOAS':4, 'BAHIA':5, 'CEARA':6, 'MARANHAO':7, 'PARAIBA':8, 'PERNAMBUCO':9,\n",
    "       'PIAUI':10, 'RIO GRANDE DO NORTE':11, 'SERGIPE':12, 'ACRE':13, 'AMAPA':14,\n",
    "       'AMAZONAS':15, 'PARA':16, 'RONDONIA':17, 'RORAIMA':18, 'TOCANTINS':19,\n",
    "       'ESPIRITO SANTO':20, 'MINAS GERAIS':21, 'RIO DE JANEIRO':22, 'SAO PAULO':23,\n",
    "       'PARANA':24, 'RIO GRANDE DO SUL':25, 'SANTA CATARINA':26}\n",
    "data['State Code'] = data['State'].map(State_dict)\n",
    "\n",
    "data.drop(['State'],axis=1, inplace=True)\n",
    "\n",
    "data.head()\n"
   ]
  },
  {
   "cell_type": "code",
   "execution_count": 21,
   "metadata": {
    "colab": {
     "base_uri": "https://localhost:8080/",
     "height": 51
    },
    "colab_type": "code",
    "id": "RBimZyhGJ191",
    "outputId": "11e8488f-cd98-4fb1-cab8-00540298f078"
   },
   "outputs": [
    {
     "data": {
      "text/plain": [
       "array(['ETANOL HIDRATADO', 'GASOLINA COMUM', 'GLP', 'GNV', 'أ“LEO DIESEL',\n",
       "       'أ“LEO DIESEL S10'], dtype=object)"
      ]
     },
     "execution_count": 21,
     "metadata": {
      "tags": []
     },
     "output_type": "execute_result"
    }
   ],
   "source": [
    "data['Product'].unique()"
   ]
  },
  {
   "cell_type": "markdown",
   "metadata": {
    "colab_type": "text",
    "id": "glOQRM3TJ199"
   },
   "source": [
    "\n",
    "_________\n",
    "\n",
    "then Product . . \n"
   ]
  },
  {
   "cell_type": "code",
   "execution_count": 22,
   "metadata": {
    "colab": {
     "base_uri": "https://localhost:8080/",
     "height": 343
    },
    "colab_type": "code",
    "id": "91s5Y3KMJ1-B",
    "outputId": "faad9178-ab14-4efd-ae1a-5a983d72d738"
   },
   "outputs": [
    {
     "data": {
      "text/html": [
       "<div>\n",
       "<style scoped>\n",
       "    .dataframe tbody tr th:only-of-type {\n",
       "        vertical-align: middle;\n",
       "    }\n",
       "\n",
       "    .dataframe tbody tr th {\n",
       "        vertical-align: top;\n",
       "    }\n",
       "\n",
       "    .dataframe thead th {\n",
       "        text-align: right;\n",
       "    }\n",
       "</style>\n",
       "<table border=\"1\" class=\"dataframe\">\n",
       "  <thead>\n",
       "    <tr style=\"text-align: right;\">\n",
       "      <th></th>\n",
       "      <th>Initial Date</th>\n",
       "      <th>Final Date</th>\n",
       "      <th>Number of searches</th>\n",
       "      <th>Unit of Measurment</th>\n",
       "      <th>Mean Price</th>\n",
       "      <th>Default Price</th>\n",
       "      <th>Minimum Price</th>\n",
       "      <th>Maximum Price</th>\n",
       "      <th>Mean Margin</th>\n",
       "      <th>Price Standar Deviation</th>\n",
       "      <th>Mean Price Distribution</th>\n",
       "      <th>Default Price Distribution</th>\n",
       "      <th>Minimum Price Distribution</th>\n",
       "      <th>Maximum Price Distribution</th>\n",
       "      <th>Distribution Standard Deviation</th>\n",
       "      <th>M Factor</th>\n",
       "      <th>Year</th>\n",
       "      <th>Region Code</th>\n",
       "      <th>State Code</th>\n",
       "      <th>Product Code</th>\n",
       "    </tr>\n",
       "  </thead>\n",
       "  <tbody>\n",
       "    <tr>\n",
       "      <th>0</th>\n",
       "      <td>2004-05-09</td>\n",
       "      <td>2004-05-15</td>\n",
       "      <td>127</td>\n",
       "      <td>R$/l</td>\n",
       "      <td>1.288</td>\n",
       "      <td>0.016</td>\n",
       "      <td>1.19</td>\n",
       "      <td>1.350</td>\n",
       "      <td>0.463</td>\n",
       "      <td>0.012</td>\n",
       "      <td>0.825</td>\n",
       "      <td>0.11</td>\n",
       "      <td>0.4201</td>\n",
       "      <td>0.9666</td>\n",
       "      <td>0.133</td>\n",
       "      <td>5</td>\n",
       "      <td>2004</td>\n",
       "      <td>0</td>\n",
       "      <td>0</td>\n",
       "      <td>0</td>\n",
       "    </tr>\n",
       "    <tr>\n",
       "      <th>1</th>\n",
       "      <td>2004-05-09</td>\n",
       "      <td>2004-05-15</td>\n",
       "      <td>387</td>\n",
       "      <td>R$/l</td>\n",
       "      <td>1.162</td>\n",
       "      <td>0.114</td>\n",
       "      <td>0.89</td>\n",
       "      <td>1.449</td>\n",
       "      <td>0.399</td>\n",
       "      <td>0.098</td>\n",
       "      <td>0.763</td>\n",
       "      <td>0.088</td>\n",
       "      <td>0.5013</td>\n",
       "      <td>1.05</td>\n",
       "      <td>0.115</td>\n",
       "      <td>5</td>\n",
       "      <td>2004</td>\n",
       "      <td>0</td>\n",
       "      <td>1</td>\n",
       "      <td>0</td>\n",
       "    </tr>\n",
       "    <tr>\n",
       "      <th>2</th>\n",
       "      <td>2004-05-09</td>\n",
       "      <td>2004-05-15</td>\n",
       "      <td>192</td>\n",
       "      <td>R$/l</td>\n",
       "      <td>1.389</td>\n",
       "      <td>0.097</td>\n",
       "      <td>1.18</td>\n",
       "      <td>1.760</td>\n",
       "      <td>0.419</td>\n",
       "      <td>0.070</td>\n",
       "      <td>0.97</td>\n",
       "      <td>0.095</td>\n",
       "      <td>0.5614</td>\n",
       "      <td>1.161</td>\n",
       "      <td>0.098</td>\n",
       "      <td>5</td>\n",
       "      <td>2004</td>\n",
       "      <td>0</td>\n",
       "      <td>2</td>\n",
       "      <td>0</td>\n",
       "    </tr>\n",
       "    <tr>\n",
       "      <th>3</th>\n",
       "      <td>2004-05-09</td>\n",
       "      <td>2004-05-15</td>\n",
       "      <td>162</td>\n",
       "      <td>R$/l</td>\n",
       "      <td>1.262</td>\n",
       "      <td>0.070</td>\n",
       "      <td>1.09</td>\n",
       "      <td>1.509</td>\n",
       "      <td>0.432</td>\n",
       "      <td>0.055</td>\n",
       "      <td>0.83</td>\n",
       "      <td>0.119</td>\n",
       "      <td>0.5991</td>\n",
       "      <td>1.22242</td>\n",
       "      <td>0.143</td>\n",
       "      <td>5</td>\n",
       "      <td>2004</td>\n",
       "      <td>0</td>\n",
       "      <td>3</td>\n",
       "      <td>0</td>\n",
       "    </tr>\n",
       "    <tr>\n",
       "      <th>4</th>\n",
       "      <td>2004-05-09</td>\n",
       "      <td>2004-05-15</td>\n",
       "      <td>103</td>\n",
       "      <td>R$/l</td>\n",
       "      <td>1.181</td>\n",
       "      <td>0.078</td>\n",
       "      <td>1.05</td>\n",
       "      <td>1.400</td>\n",
       "      <td>0.24</td>\n",
       "      <td>0.066</td>\n",
       "      <td>0.941</td>\n",
       "      <td>0.077</td>\n",
       "      <td>0.7441</td>\n",
       "      <td>1.0317</td>\n",
       "      <td>0.082</td>\n",
       "      <td>5</td>\n",
       "      <td>2004</td>\n",
       "      <td>1</td>\n",
       "      <td>4</td>\n",
       "      <td>0</td>\n",
       "    </tr>\n",
       "  </tbody>\n",
       "</table>\n",
       "</div>"
      ],
      "text/plain": [
       "  Initial Date Final Date  ...  State Code Product Code\n",
       "0   2004-05-09 2004-05-15  ...           0            0\n",
       "1   2004-05-09 2004-05-15  ...           1            0\n",
       "2   2004-05-09 2004-05-15  ...           2            0\n",
       "3   2004-05-09 2004-05-15  ...           3            0\n",
       "4   2004-05-09 2004-05-15  ...           4            0\n",
       "\n",
       "[5 rows x 20 columns]"
      ]
     },
     "execution_count": 22,
     "metadata": {
      "tags": []
     },
     "output_type": "execute_result"
    }
   ],
   "source": [
    "Product_dict = {'ETANOL HIDRATADO':0, 'GASOLINA COMUM':1, 'GLP':2, 'GNV':3, 'أ“LEO DIESEL':4,\n",
    "       'أ“LEO DIESEL S10':5}\n",
    "\n",
    "data['Product Code'] = data['Product'].map(Product_dict)\n",
    "\n",
    "data.drop(['Product'],axis=1, inplace=True)\n",
    "\n",
    "data.head()"
   ]
  },
  {
   "cell_type": "markdown",
   "metadata": {
    "colab_type": "text",
    "id": "3OuIYmifJ1-K"
   },
   "source": [
    "\n",
    "_________\n",
    "\n",
    "and Unit of measurment"
   ]
  },
  {
   "cell_type": "code",
   "execution_count": 23,
   "metadata": {
    "colab": {
     "base_uri": "https://localhost:8080/",
     "height": 34
    },
    "colab_type": "code",
    "id": "Zhaw60T8J1-N",
    "outputId": "8a45f0f5-5c26-40be-a928-952f4f481a51"
   },
   "outputs": [
    {
     "data": {
      "text/plain": [
       "array(['R$/l', 'R$/13Kg', 'R$/m3'], dtype=object)"
      ]
     },
     "execution_count": 23,
     "metadata": {
      "tags": []
     },
     "output_type": "execute_result"
    }
   ],
   "source": [
    "data['Unit of Measurment'].unique()"
   ]
  },
  {
   "cell_type": "code",
   "execution_count": 24,
   "metadata": {
    "colab": {
     "base_uri": "https://localhost:8080/",
     "height": 343
    },
    "colab_type": "code",
    "id": "4yrkdeovJ1-U",
    "outputId": "b6c9f998-582e-4d8d-a978-00bbc91ef7be"
   },
   "outputs": [
    {
     "data": {
      "text/html": [
       "<div>\n",
       "<style scoped>\n",
       "    .dataframe tbody tr th:only-of-type {\n",
       "        vertical-align: middle;\n",
       "    }\n",
       "\n",
       "    .dataframe tbody tr th {\n",
       "        vertical-align: top;\n",
       "    }\n",
       "\n",
       "    .dataframe thead th {\n",
       "        text-align: right;\n",
       "    }\n",
       "</style>\n",
       "<table border=\"1\" class=\"dataframe\">\n",
       "  <thead>\n",
       "    <tr style=\"text-align: right;\">\n",
       "      <th></th>\n",
       "      <th>Initial Date</th>\n",
       "      <th>Final Date</th>\n",
       "      <th>Number of searches</th>\n",
       "      <th>Mean Price</th>\n",
       "      <th>Default Price</th>\n",
       "      <th>Minimum Price</th>\n",
       "      <th>Maximum Price</th>\n",
       "      <th>Mean Margin</th>\n",
       "      <th>Price Standar Deviation</th>\n",
       "      <th>Mean Price Distribution</th>\n",
       "      <th>Default Price Distribution</th>\n",
       "      <th>Minimum Price Distribution</th>\n",
       "      <th>Maximum Price Distribution</th>\n",
       "      <th>Distribution Standard Deviation</th>\n",
       "      <th>M Factor</th>\n",
       "      <th>Year</th>\n",
       "      <th>Region Code</th>\n",
       "      <th>State Code</th>\n",
       "      <th>Product Code</th>\n",
       "      <th>Unit Code</th>\n",
       "    </tr>\n",
       "  </thead>\n",
       "  <tbody>\n",
       "    <tr>\n",
       "      <th>0</th>\n",
       "      <td>2004-05-09</td>\n",
       "      <td>2004-05-15</td>\n",
       "      <td>127</td>\n",
       "      <td>1.288</td>\n",
       "      <td>0.016</td>\n",
       "      <td>1.19</td>\n",
       "      <td>1.350</td>\n",
       "      <td>0.463</td>\n",
       "      <td>0.012</td>\n",
       "      <td>0.825</td>\n",
       "      <td>0.11</td>\n",
       "      <td>0.4201</td>\n",
       "      <td>0.9666</td>\n",
       "      <td>0.133</td>\n",
       "      <td>5</td>\n",
       "      <td>2004</td>\n",
       "      <td>0</td>\n",
       "      <td>0</td>\n",
       "      <td>0</td>\n",
       "      <td>0</td>\n",
       "    </tr>\n",
       "    <tr>\n",
       "      <th>1</th>\n",
       "      <td>2004-05-09</td>\n",
       "      <td>2004-05-15</td>\n",
       "      <td>387</td>\n",
       "      <td>1.162</td>\n",
       "      <td>0.114</td>\n",
       "      <td>0.89</td>\n",
       "      <td>1.449</td>\n",
       "      <td>0.399</td>\n",
       "      <td>0.098</td>\n",
       "      <td>0.763</td>\n",
       "      <td>0.088</td>\n",
       "      <td>0.5013</td>\n",
       "      <td>1.05</td>\n",
       "      <td>0.115</td>\n",
       "      <td>5</td>\n",
       "      <td>2004</td>\n",
       "      <td>0</td>\n",
       "      <td>1</td>\n",
       "      <td>0</td>\n",
       "      <td>0</td>\n",
       "    </tr>\n",
       "    <tr>\n",
       "      <th>2</th>\n",
       "      <td>2004-05-09</td>\n",
       "      <td>2004-05-15</td>\n",
       "      <td>192</td>\n",
       "      <td>1.389</td>\n",
       "      <td>0.097</td>\n",
       "      <td>1.18</td>\n",
       "      <td>1.760</td>\n",
       "      <td>0.419</td>\n",
       "      <td>0.070</td>\n",
       "      <td>0.97</td>\n",
       "      <td>0.095</td>\n",
       "      <td>0.5614</td>\n",
       "      <td>1.161</td>\n",
       "      <td>0.098</td>\n",
       "      <td>5</td>\n",
       "      <td>2004</td>\n",
       "      <td>0</td>\n",
       "      <td>2</td>\n",
       "      <td>0</td>\n",
       "      <td>0</td>\n",
       "    </tr>\n",
       "    <tr>\n",
       "      <th>3</th>\n",
       "      <td>2004-05-09</td>\n",
       "      <td>2004-05-15</td>\n",
       "      <td>162</td>\n",
       "      <td>1.262</td>\n",
       "      <td>0.070</td>\n",
       "      <td>1.09</td>\n",
       "      <td>1.509</td>\n",
       "      <td>0.432</td>\n",
       "      <td>0.055</td>\n",
       "      <td>0.83</td>\n",
       "      <td>0.119</td>\n",
       "      <td>0.5991</td>\n",
       "      <td>1.22242</td>\n",
       "      <td>0.143</td>\n",
       "      <td>5</td>\n",
       "      <td>2004</td>\n",
       "      <td>0</td>\n",
       "      <td>3</td>\n",
       "      <td>0</td>\n",
       "      <td>0</td>\n",
       "    </tr>\n",
       "    <tr>\n",
       "      <th>4</th>\n",
       "      <td>2004-05-09</td>\n",
       "      <td>2004-05-15</td>\n",
       "      <td>103</td>\n",
       "      <td>1.181</td>\n",
       "      <td>0.078</td>\n",
       "      <td>1.05</td>\n",
       "      <td>1.400</td>\n",
       "      <td>0.24</td>\n",
       "      <td>0.066</td>\n",
       "      <td>0.941</td>\n",
       "      <td>0.077</td>\n",
       "      <td>0.7441</td>\n",
       "      <td>1.0317</td>\n",
       "      <td>0.082</td>\n",
       "      <td>5</td>\n",
       "      <td>2004</td>\n",
       "      <td>1</td>\n",
       "      <td>4</td>\n",
       "      <td>0</td>\n",
       "      <td>0</td>\n",
       "    </tr>\n",
       "  </tbody>\n",
       "</table>\n",
       "</div>"
      ],
      "text/plain": [
       "  Initial Date Final Date  ...  Product Code  Unit Code\n",
       "0   2004-05-09 2004-05-15  ...             0          0\n",
       "1   2004-05-09 2004-05-15  ...             0          0\n",
       "2   2004-05-09 2004-05-15  ...             0          0\n",
       "3   2004-05-09 2004-05-15  ...             0          0\n",
       "4   2004-05-09 2004-05-15  ...             0          0\n",
       "\n",
       "[5 rows x 20 columns]"
      ]
     },
     "execution_count": 24,
     "metadata": {
      "tags": []
     },
     "output_type": "execute_result"
    }
   ],
   "source": [
    "Unit_dict = {'R$/l':0, 'R$/13Kg':1, 'R$/m3':2}\n",
    "\n",
    "data['Unit Code'] = data['Unit of Measurment'].map(Unit_dict)\n",
    "\n",
    "data.drop(['Unit of Measurment'],axis=1, inplace=True)\n",
    "\n",
    "data.head()"
   ]
  },
  {
   "cell_type": "markdown",
   "metadata": {
    "colab_type": "text",
    "id": "wVHfrVUEJ1-c"
   },
   "source": [
    "\n",
    "\n",
    "________\n",
    "\n",
    "# Handling Date \n",
    "\n",
    "since we have here 2 columns for date , which is Initial date & Final Date , let;s first check how many rows when the year at those two columns are mismatch \n"
   ]
  },
  {
   "cell_type": "code",
   "execution_count": 25,
   "metadata": {
    "colab": {
     "base_uri": "https://localhost:8080/",
     "height": 34
    },
    "colab_type": "code",
    "id": "QaZ1CcAiJ1-f",
    "outputId": "39961d80-32d7-4653-8f2e-b22f3f6048ba"
   },
   "outputs": [
    {
     "name": "stdout",
     "output_type": "stream",
     "text": [
      "Year mismatch amount is 1042\n"
     ]
    }
   ],
   "source": [
    "mismatch=0\n",
    "for i in range(data.shape[0])  : \n",
    "    if not (int(data['Initial Date'][i].year)  == int(data['Final Date'][i].year)) :\n",
    "        mismatch +=1\n",
    "        \n",
    "print( 'Year mismatch amount is {}'.format(mismatch))"
   ]
  },
  {
   "cell_type": "markdown",
   "metadata": {
    "colab_type": "text",
    "id": "L3hcsSNgJ1-p"
   },
   "source": [
    "____\n",
    "\n",
    "since it's kinda ew number comparing with the 65 thousand rows , so we can use only one of them , which will be the Final Date\n",
    "\n",
    "also since the Day will not affect so much in the price , so let's only use the month & the year in 2 new separated columns"
   ]
  },
  {
   "cell_type": "code",
   "execution_count": 0,
   "metadata": {
    "colab": {},
    "colab_type": "code",
    "id": "l3X0snVhJ1-r"
   },
   "outputs": [],
   "source": [
    "Years = []\n",
    "Months = []\n",
    "for i in range(data.shape[0])  : \n",
    "    Years.append(str(data['Final Date'][i])[:4])\n",
    "    Months.append(str(data['Final Date'][i])[5:7])       "
   ]
  },
  {
   "cell_type": "code",
   "execution_count": 0,
   "metadata": {
    "colab": {},
    "colab_type": "code",
    "id": "ZmZzx96vJ1-2"
   },
   "outputs": [],
   "source": [
    "data['Final Year'] = Years\n",
    "data['Final Months'] = Months\n",
    "\n",
    "data.drop(['Initial Date','Final Date','Year'],axis=1, inplace=True)\n"
   ]
  },
  {
   "cell_type": "markdown",
   "metadata": {
    "colab_type": "text",
    "id": "wnSV8Z26J1-_"
   },
   "source": [
    "\n",
    "\n",
    "now lets  check the final data \n"
   ]
  },
  {
   "cell_type": "code",
   "execution_count": 28,
   "metadata": {
    "colab": {
     "base_uri": "https://localhost:8080/",
     "height": 258
    },
    "colab_type": "code",
    "id": "PYd3yZ-xJ1_B",
    "outputId": "de253c3d-095e-4a48-ab18-fac343f7b4ba"
   },
   "outputs": [
    {
     "data": {
      "text/html": [
       "<div>\n",
       "<style scoped>\n",
       "    .dataframe tbody tr th:only-of-type {\n",
       "        vertical-align: middle;\n",
       "    }\n",
       "\n",
       "    .dataframe tbody tr th {\n",
       "        vertical-align: top;\n",
       "    }\n",
       "\n",
       "    .dataframe thead th {\n",
       "        text-align: right;\n",
       "    }\n",
       "</style>\n",
       "<table border=\"1\" class=\"dataframe\">\n",
       "  <thead>\n",
       "    <tr style=\"text-align: right;\">\n",
       "      <th></th>\n",
       "      <th>Number of searches</th>\n",
       "      <th>Mean Price</th>\n",
       "      <th>Default Price</th>\n",
       "      <th>Minimum Price</th>\n",
       "      <th>Maximum Price</th>\n",
       "      <th>Mean Margin</th>\n",
       "      <th>Price Standar Deviation</th>\n",
       "      <th>Mean Price Distribution</th>\n",
       "      <th>Default Price Distribution</th>\n",
       "      <th>Minimum Price Distribution</th>\n",
       "      <th>Maximum Price Distribution</th>\n",
       "      <th>Distribution Standard Deviation</th>\n",
       "      <th>M Factor</th>\n",
       "      <th>Region Code</th>\n",
       "      <th>State Code</th>\n",
       "      <th>Product Code</th>\n",
       "      <th>Unit Code</th>\n",
       "      <th>Final Year</th>\n",
       "      <th>Final Months</th>\n",
       "    </tr>\n",
       "  </thead>\n",
       "  <tbody>\n",
       "    <tr>\n",
       "      <th>0</th>\n",
       "      <td>127</td>\n",
       "      <td>1.288</td>\n",
       "      <td>0.016</td>\n",
       "      <td>1.19</td>\n",
       "      <td>1.350</td>\n",
       "      <td>0.463</td>\n",
       "      <td>0.012</td>\n",
       "      <td>0.825</td>\n",
       "      <td>0.11</td>\n",
       "      <td>0.4201</td>\n",
       "      <td>0.9666</td>\n",
       "      <td>0.133</td>\n",
       "      <td>5</td>\n",
       "      <td>0</td>\n",
       "      <td>0</td>\n",
       "      <td>0</td>\n",
       "      <td>0</td>\n",
       "      <td>2004</td>\n",
       "      <td>05</td>\n",
       "    </tr>\n",
       "    <tr>\n",
       "      <th>1</th>\n",
       "      <td>387</td>\n",
       "      <td>1.162</td>\n",
       "      <td>0.114</td>\n",
       "      <td>0.89</td>\n",
       "      <td>1.449</td>\n",
       "      <td>0.399</td>\n",
       "      <td>0.098</td>\n",
       "      <td>0.763</td>\n",
       "      <td>0.088</td>\n",
       "      <td>0.5013</td>\n",
       "      <td>1.05</td>\n",
       "      <td>0.115</td>\n",
       "      <td>5</td>\n",
       "      <td>0</td>\n",
       "      <td>1</td>\n",
       "      <td>0</td>\n",
       "      <td>0</td>\n",
       "      <td>2004</td>\n",
       "      <td>05</td>\n",
       "    </tr>\n",
       "    <tr>\n",
       "      <th>2</th>\n",
       "      <td>192</td>\n",
       "      <td>1.389</td>\n",
       "      <td>0.097</td>\n",
       "      <td>1.18</td>\n",
       "      <td>1.760</td>\n",
       "      <td>0.419</td>\n",
       "      <td>0.070</td>\n",
       "      <td>0.97</td>\n",
       "      <td>0.095</td>\n",
       "      <td>0.5614</td>\n",
       "      <td>1.161</td>\n",
       "      <td>0.098</td>\n",
       "      <td>5</td>\n",
       "      <td>0</td>\n",
       "      <td>2</td>\n",
       "      <td>0</td>\n",
       "      <td>0</td>\n",
       "      <td>2004</td>\n",
       "      <td>05</td>\n",
       "    </tr>\n",
       "    <tr>\n",
       "      <th>3</th>\n",
       "      <td>162</td>\n",
       "      <td>1.262</td>\n",
       "      <td>0.070</td>\n",
       "      <td>1.09</td>\n",
       "      <td>1.509</td>\n",
       "      <td>0.432</td>\n",
       "      <td>0.055</td>\n",
       "      <td>0.83</td>\n",
       "      <td>0.119</td>\n",
       "      <td>0.5991</td>\n",
       "      <td>1.22242</td>\n",
       "      <td>0.143</td>\n",
       "      <td>5</td>\n",
       "      <td>0</td>\n",
       "      <td>3</td>\n",
       "      <td>0</td>\n",
       "      <td>0</td>\n",
       "      <td>2004</td>\n",
       "      <td>05</td>\n",
       "    </tr>\n",
       "    <tr>\n",
       "      <th>4</th>\n",
       "      <td>103</td>\n",
       "      <td>1.181</td>\n",
       "      <td>0.078</td>\n",
       "      <td>1.05</td>\n",
       "      <td>1.400</td>\n",
       "      <td>0.24</td>\n",
       "      <td>0.066</td>\n",
       "      <td>0.941</td>\n",
       "      <td>0.077</td>\n",
       "      <td>0.7441</td>\n",
       "      <td>1.0317</td>\n",
       "      <td>0.082</td>\n",
       "      <td>5</td>\n",
       "      <td>1</td>\n",
       "      <td>4</td>\n",
       "      <td>0</td>\n",
       "      <td>0</td>\n",
       "      <td>2004</td>\n",
       "      <td>05</td>\n",
       "    </tr>\n",
       "  </tbody>\n",
       "</table>\n",
       "</div>"
      ],
      "text/plain": [
       "   Number of searches  Mean Price  ...  Final Year  Final Months\n",
       "0                 127       1.288  ...        2004            05\n",
       "1                 387       1.162  ...        2004            05\n",
       "2                 192       1.389  ...        2004            05\n",
       "3                 162       1.262  ...        2004            05\n",
       "4                 103       1.181  ...        2004            05\n",
       "\n",
       "[5 rows x 19 columns]"
      ]
     },
     "execution_count": 28,
     "metadata": {
      "tags": []
     },
     "output_type": "execute_result"
    }
   ],
   "source": [
    "data.head()"
   ]
  },
  {
   "cell_type": "markdown",
   "metadata": {
    "colab_type": "text",
    "id": "JVcFKeg2J1_L"
   },
   "source": [
    "\n",
    "______\n",
    "\n",
    "# Representing Data\n",
    "\n",
    "let's have a quick look to few features distribution , using countplot tool from Seaborn library . .\n",
    "\n",
    "\n",
    "here for Region Code"
   ]
  },
  {
   "cell_type": "code",
   "execution_count": 29,
   "metadata": {
    "colab": {
     "base_uri": "https://localhost:8080/",
     "height": 308
    },
    "colab_type": "code",
    "id": "IJLDFpRlJ1_R",
    "outputId": "5ecbf7ee-da13-4d74-bb9c-97162c2475aa"
   },
   "outputs": [
    {
     "data": {
      "text/plain": [
       "<matplotlib.axes._subplots.AxesSubplot at 0x7f803f30c780>"
      ]
     },
     "execution_count": 29,
     "metadata": {
      "tags": []
     },
     "output_type": "execute_result"
    },
    {
     "data": {
      "image/png": "[encoded data removed]",
      "text/plain": [
       "<Figure size 432x288 with 1 Axes>"
      ]
     },
     "metadata": {
      "tags": []
     },
     "output_type": "display_data"
    }
   ],
   "source": [
    "sns.countplot(x=\"Region Code\", data=data,facecolor=(0, 0, 0, 0),linewidth=5,edgecolor=sns.color_palette(\"dark\", 3))"
   ]
  },
  {
   "cell_type": "markdown",
   "metadata": {
    "colab_type": "text",
    "id": "wYYI-zAzJ1_Z"
   },
   "source": [
    "\n",
    "\n",
    "and here for State "
   ]
  },
  {
   "cell_type": "code",
   "execution_count": 30,
   "metadata": {
    "colab": {
     "base_uri": "https://localhost:8080/",
     "height": 308
    },
    "colab_type": "code",
    "id": "Y1I46VqqJ1_i",
    "outputId": "bd8e2a6d-d6ca-4a0c-9995-8f59f8e6ac2a"
   },
   "outputs": [
    {
     "data": {
      "text/plain": [
       "<matplotlib.axes._subplots.AxesSubplot at 0x7f80259050f0>"
      ]
     },
     "execution_count": 30,
     "metadata": {
      "tags": []
     },
     "output_type": "execute_result"
    },
    {
     "data": {
      "image/png": "[encoded data removed]",
      "text/plain": [
       "<Figure size 432x288 with 1 Axes>"
      ]
     },
     "metadata": {
      "tags": []
     },
     "output_type": "display_data"
    }
   ],
   "source": [
    "sns.countplot(x=\"State Code\", data=data,facecolor=(0, 0, 0, 0),linewidth=5,edgecolor=sns.color_palette(\"dark\", 3))"
   ]
  },
  {
   "cell_type": "markdown",
   "metadata": {
    "colab_type": "text",
    "id": "Mts1YIxCJ1_r"
   },
   "source": [
    "\n",
    "then the Product"
   ]
  },
  {
   "cell_type": "code",
   "execution_count": 31,
   "metadata": {
    "colab": {
     "base_uri": "https://localhost:8080/",
     "height": 308
    },
    "colab_type": "code",
    "id": "YOQo2NR_J1_t",
    "outputId": "c9ce7287-ca4f-43a4-bd0b-b66df52c9ee4"
   },
   "outputs": [
    {
     "data": {
      "text/plain": [
       "<matplotlib.axes._subplots.AxesSubplot at 0x7f80254e6d68>"
      ]
     },
     "execution_count": 31,
     "metadata": {
      "tags": []
     },
     "output_type": "execute_result"
    },
    {
     "data": {
      "image/png": "[encoded data removed]",
      "text/plain": [
       "<Figure size 432x288 with 1 Axes>"
      ]
     },
     "metadata": {
      "tags": []
     },
     "output_type": "display_data"
    }
   ],
   "source": [
    "sns.countplot(x=\"Product Code\", data=data,facecolor=(0, 0, 0, 0),linewidth=5,edgecolor=sns.color_palette(\"dark\", 3))"
   ]
  },
  {
   "cell_type": "markdown",
   "metadata": {
    "colab_type": "text",
    "id": "dKy30sEAJ1_1"
   },
   "source": [
    "\n",
    "and for the Year"
   ]
  },
  {
   "cell_type": "code",
   "execution_count": 32,
   "metadata": {
    "colab": {
     "base_uri": "https://localhost:8080/",
     "height": 308
    },
    "colab_type": "code",
    "id": "CZ-M2qJ3J1_4",
    "outputId": "8c20e0f2-6647-4864-d259-071f9108a7fa"
   },
   "outputs": [
    {
     "data": {
      "text/plain": [
       "<matplotlib.axes._subplots.AxesSubplot at 0x7f8024e94630>"
      ]
     },
     "execution_count": 32,
     "metadata": {
      "tags": []
     },
     "output_type": "execute_result"
    },
    {
     "data": {
      "image/png": "[encoded data removed]",
      "text/plain": [
       "<Figure size 432x288 with 1 Axes>"
      ]
     },
     "metadata": {
      "tags": []
     },
     "output_type": "display_data"
    }
   ],
   "source": [
    "sns.countplot(x=\"Final Year\", data=data,facecolor=(0, 0, 0, 0),linewidth=5,edgecolor=sns.color_palette(\"dark\", 3))"
   ]
  },
  {
   "cell_type": "markdown",
   "metadata": {
    "colab_type": "text",
    "id": "dRMSmtv0J1__"
   },
   "source": [
    "\n",
    "_____________\n",
    "\n",
    "# Splitting Data\n",
    "\n",
    "\n",
    "now lets use determine X & y data , then use Sklearn , to split the data into Train & test\n"
   ]
  },
  {
   "cell_type": "code",
   "execution_count": 33,
   "metadata": {
    "colab": {
     "base_uri": "https://localhost:8080/",
     "height": 275
    },
    "colab_type": "code",
    "id": "Fxajrj_2J2AD",
    "outputId": "e8cf59dc-93ef-4bd9-82fe-c394f3be1130"
   },
   "outputs": [
    {
     "name": "stdout",
     "output_type": "stream",
     "text": [
      "X shape is  (65534, 18)\n"
     ]
    },
    {
     "data": {
      "text/html": [
       "<div>\n",
       "<style scoped>\n",
       "    .dataframe tbody tr th:only-of-type {\n",
       "        vertical-align: middle;\n",
       "    }\n",
       "\n",
       "    .dataframe tbody tr th {\n",
       "        vertical-align: top;\n",
       "    }\n",
       "\n",
       "    .dataframe thead th {\n",
       "        text-align: right;\n",
       "    }\n",
       "</style>\n",
       "<table border=\"1\" class=\"dataframe\">\n",
       "  <thead>\n",
       "    <tr style=\"text-align: right;\">\n",
       "      <th></th>\n",
       "      <th>Number of searches</th>\n",
       "      <th>Default Price</th>\n",
       "      <th>Minimum Price</th>\n",
       "      <th>Maximum Price</th>\n",
       "      <th>Mean Margin</th>\n",
       "      <th>Price Standar Deviation</th>\n",
       "      <th>Mean Price Distribution</th>\n",
       "      <th>Default Price Distribution</th>\n",
       "      <th>Minimum Price Distribution</th>\n",
       "      <th>Maximum Price Distribution</th>\n",
       "      <th>Distribution Standard Deviation</th>\n",
       "      <th>M Factor</th>\n",
       "      <th>Region Code</th>\n",
       "      <th>State Code</th>\n",
       "      <th>Product Code</th>\n",
       "      <th>Unit Code</th>\n",
       "      <th>Final Year</th>\n",
       "      <th>Final Months</th>\n",
       "    </tr>\n",
       "  </thead>\n",
       "  <tbody>\n",
       "    <tr>\n",
       "      <th>0</th>\n",
       "      <td>127</td>\n",
       "      <td>0.016</td>\n",
       "      <td>1.19</td>\n",
       "      <td>1.350</td>\n",
       "      <td>0.463</td>\n",
       "      <td>0.012</td>\n",
       "      <td>0.825</td>\n",
       "      <td>0.11</td>\n",
       "      <td>0.4201</td>\n",
       "      <td>0.9666</td>\n",
       "      <td>0.133</td>\n",
       "      <td>5</td>\n",
       "      <td>0</td>\n",
       "      <td>0</td>\n",
       "      <td>0</td>\n",
       "      <td>0</td>\n",
       "      <td>2004</td>\n",
       "      <td>05</td>\n",
       "    </tr>\n",
       "    <tr>\n",
       "      <th>1</th>\n",
       "      <td>387</td>\n",
       "      <td>0.114</td>\n",
       "      <td>0.89</td>\n",
       "      <td>1.449</td>\n",
       "      <td>0.399</td>\n",
       "      <td>0.098</td>\n",
       "      <td>0.763</td>\n",
       "      <td>0.088</td>\n",
       "      <td>0.5013</td>\n",
       "      <td>1.05</td>\n",
       "      <td>0.115</td>\n",
       "      <td>5</td>\n",
       "      <td>0</td>\n",
       "      <td>1</td>\n",
       "      <td>0</td>\n",
       "      <td>0</td>\n",
       "      <td>2004</td>\n",
       "      <td>05</td>\n",
       "    </tr>\n",
       "    <tr>\n",
       "      <th>2</th>\n",
       "      <td>192</td>\n",
       "      <td>0.097</td>\n",
       "      <td>1.18</td>\n",
       "      <td>1.760</td>\n",
       "      <td>0.419</td>\n",
       "      <td>0.070</td>\n",
       "      <td>0.97</td>\n",
       "      <td>0.095</td>\n",
       "      <td>0.5614</td>\n",
       "      <td>1.161</td>\n",
       "      <td>0.098</td>\n",
       "      <td>5</td>\n",
       "      <td>0</td>\n",
       "      <td>2</td>\n",
       "      <td>0</td>\n",
       "      <td>0</td>\n",
       "      <td>2004</td>\n",
       "      <td>05</td>\n",
       "    </tr>\n",
       "    <tr>\n",
       "      <th>3</th>\n",
       "      <td>162</td>\n",
       "      <td>0.070</td>\n",
       "      <td>1.09</td>\n",
       "      <td>1.509</td>\n",
       "      <td>0.432</td>\n",
       "      <td>0.055</td>\n",
       "      <td>0.83</td>\n",
       "      <td>0.119</td>\n",
       "      <td>0.5991</td>\n",
       "      <td>1.22242</td>\n",
       "      <td>0.143</td>\n",
       "      <td>5</td>\n",
       "      <td>0</td>\n",
       "      <td>3</td>\n",
       "      <td>0</td>\n",
       "      <td>0</td>\n",
       "      <td>2004</td>\n",
       "      <td>05</td>\n",
       "    </tr>\n",
       "    <tr>\n",
       "      <th>4</th>\n",
       "      <td>103</td>\n",
       "      <td>0.078</td>\n",
       "      <td>1.05</td>\n",
       "      <td>1.400</td>\n",
       "      <td>0.24</td>\n",
       "      <td>0.066</td>\n",
       "      <td>0.941</td>\n",
       "      <td>0.077</td>\n",
       "      <td>0.7441</td>\n",
       "      <td>1.0317</td>\n",
       "      <td>0.082</td>\n",
       "      <td>5</td>\n",
       "      <td>1</td>\n",
       "      <td>4</td>\n",
       "      <td>0</td>\n",
       "      <td>0</td>\n",
       "      <td>2004</td>\n",
       "      <td>05</td>\n",
       "    </tr>\n",
       "  </tbody>\n",
       "</table>\n",
       "</div>"
      ],
      "text/plain": [
       "   Number of searches  Default Price  ...  Final Year  Final Months\n",
       "0                 127          0.016  ...        2004            05\n",
       "1                 387          0.114  ...        2004            05\n",
       "2                 192          0.097  ...        2004            05\n",
       "3                 162          0.070  ...        2004            05\n",
       "4                 103          0.078  ...        2004            05\n",
       "\n",
       "[5 rows x 18 columns]"
      ]
     },
     "execution_count": 33,
     "metadata": {
      "tags": []
     },
     "output_type": "execute_result"
    }
   ],
   "source": [
    "X = data.drop(['Mean Price'], axis=1, inplace=False)\n",
    "print('X shape is ' , X.shape)\n",
    "X.head()"
   ]
  },
  {
   "cell_type": "code",
   "execution_count": 34,
   "metadata": {
    "colab": {
     "base_uri": "https://localhost:8080/",
     "height": 136
    },
    "colab_type": "code",
    "id": "Qd0JJecQJ2AN",
    "outputId": "3e0b9223-0185-45a8-abe2-f99478e41ae8"
   },
   "outputs": [
    {
     "name": "stdout",
     "output_type": "stream",
     "text": [
      "y shape is  (65534,)\n"
     ]
    },
    {
     "data": {
      "text/plain": [
       "0    1.288\n",
       "1    1.162\n",
       "2    1.389\n",
       "3    1.262\n",
       "4    1.181\n",
       "Name: Mean Price, dtype: float64"
      ]
     },
     "execution_count": 34,
     "metadata": {
      "tags": []
     },
     "output_type": "execute_result"
    }
   ],
   "source": [
    "y = data['Mean Price']\n",
    "\n",
    "print('y shape is ' , y.shape)\n",
    "y.head()\n"
   ]
  },
  {
   "cell_type": "markdown",
   "metadata": {
    "colab_type": "text",
    "id": "QhP-w_4eJ2AZ"
   },
   "source": [
    "___\n",
    "\n",
    "then split it"
   ]
  },
  {
   "cell_type": "code",
   "execution_count": 35,
   "metadata": {
    "colab": {
     "base_uri": "https://localhost:8080/",
     "height": 85
    },
    "colab_type": "code",
    "id": "PmQB05OxJ2Ah",
    "outputId": "4a04a990-f5a6-4c4c-825f-90aaf0dacffe"
   },
   "outputs": [
    {
     "name": "stdout",
     "output_type": "stream",
     "text": [
      "X_train shape is  (49150, 18)\n",
      "X_test shape is  (16384, 18)\n",
      "y_train shape is  (49150,)\n",
      "y_test shape is  (16384,)\n"
     ]
    }
   ],
   "source": [
    "X_train, X_test, y_train, y_test = train_test_split(X, y, test_size=0.25, random_state=44, shuffle =True)\n",
    "\n",
    "\n",
    "print('X_train shape is ' , X_train.shape)\n",
    "print('X_test shape is ' , X_test.shape)\n",
    "print('y_train shape is ' , y_train.shape)\n",
    "print('y_test shape is ' , y_test.shape)"
   ]
  },
  {
   "cell_type": "markdown",
   "metadata": {
    "colab_type": "text",
    "id": "sZh6Oq9FJ2BK"
   },
   "source": [
    "____\n",
    "\n",
    "# Building the Model\n",
    "\n",
    "let's use 3 regerssion Models using Sklearn , to check which is suitable . . \n",
    "\n",
    "first use Linear Regression\n",
    "\n"
   ]
  },
  {
   "cell_type": "code",
   "execution_count": 36,
   "metadata": {
    "colab": {
     "base_uri": "https://localhost:8080/",
     "height": 34
    },
    "colab_type": "code",
    "id": "j7QjwZKsJ2BM",
    "outputId": "cc2f7feb-3ab5-4448-b610-9aec1eb0c9ef"
   },
   "outputs": [
    {
     "data": {
      "text/plain": [
       "LinearRegression(copy_X=True, fit_intercept=True, n_jobs=-1, normalize=True)"
      ]
     },
     "execution_count": 36,
     "metadata": {
      "tags": []
     },
     "output_type": "execute_result"
    }
   ],
   "source": [
    "LinearRegressionModel = LinearRegression(fit_intercept=True, normalize=True,copy_X=True,n_jobs=-1)\n",
    "LinearRegressionModel.fit(X_train, y_train)"
   ]
  },
  {
   "cell_type": "markdown",
   "metadata": {
    "colab_type": "text",
    "id": "riQ5P2hjJ2BT"
   },
   "source": [
    "____\n",
    "\n",
    "now how about the Train & Test Scores ? \n"
   ]
  },
  {
   "cell_type": "code",
   "execution_count": 37,
   "metadata": {
    "colab": {
     "base_uri": "https://localhost:8080/",
     "height": 51
    },
    "colab_type": "code",
    "id": "dkpVhxJgJ2BW",
    "outputId": "7793740c-14c6-4478-83f4-285c1017938d"
   },
   "outputs": [
    {
     "name": "stdout",
     "output_type": "stream",
     "text": [
      "Linear Regression Train Score is :  0.9984663922036023\n",
      "Linear Regression Test Score is :  0.9985163318823426\n"
     ]
    }
   ],
   "source": [
    "#Calculating Details\n",
    "print('Linear Regression Train Score is : ' , LinearRegressionModel.score(X_train, y_train))\n",
    "print('Linear Regression Test Score is : ' , LinearRegressionModel.score(X_test, y_test))\n"
   ]
  },
  {
   "cell_type": "markdown",
   "metadata": {
    "colab_type": "text",
    "id": "7d20RSRqJ2Bg"
   },
   "source": [
    "\n",
    "_____\n",
    "\n",
    "looks great which might refer to some kind of overfitt , now lets check predicted values"
   ]
  },
  {
   "cell_type": "code",
   "execution_count": 38,
   "metadata": {
    "colab": {
     "base_uri": "https://localhost:8080/",
     "height": 51
    },
    "colab_type": "code",
    "id": "Hv6iLyVFJ2Bi",
    "outputId": "90f68b70-52ed-4cce-87d2-268d932863eb"
   },
   "outputs": [
    {
     "name": "stdout",
     "output_type": "stream",
     "text": [
      "Predicted Value for Linear Regression is :  [38.69705869 40.50106793  2.67158521  2.11160523  1.64262891  2.75695631\n",
      "  1.481403    2.92850533 32.54062596  2.37254354]\n"
     ]
    }
   ],
   "source": [
    "y_pred = LinearRegressionModel.predict(X_test)\n",
    "print('Predicted Value for Linear Regression is : ' , y_pred[:10])"
   ]
  },
  {
   "cell_type": "markdown",
   "metadata": {
    "colab_type": "text",
    "id": "JO1xPO7rJ2Bt"
   },
   "source": [
    "____\n",
    "\n",
    "now lets move to SVR Model (this will take few mins)\n"
   ]
  },
  {
   "cell_type": "code",
   "execution_count": 39,
   "metadata": {
    "colab": {
     "base_uri": "https://localhost:8080/",
     "height": 122
    },
    "colab_type": "code",
    "id": "hExXdgjrJ2Bx",
    "outputId": "897096f1-c6dd-427d-aaa5-1911051a520e"
   },
   "outputs": [
    {
     "name": "stderr",
     "output_type": "stream",
     "text": [
      "/usr/local/lib/python3.6/dist-packages/sklearn/svm/base.py:193: FutureWarning: The default value of gamma will change from 'auto' to 'scale' in version 0.22 to account better for unscaled features. Set gamma explicitly to 'auto' or 'scale' to avoid this warning.\n",
      "  \"avoid this warning.\", FutureWarning)\n"
     ]
    },
    {
     "data": {
      "text/plain": [
       "SVR(C=1.0, cache_size=200, coef0=0.0, degree=3, epsilon=1,\n",
       "    gamma='auto_deprecated', kernel='rbf', max_iter=-1, shrinking=True,\n",
       "    tol=0.001, verbose=False)"
      ]
     },
     "execution_count": 39,
     "metadata": {
      "tags": []
     },
     "output_type": "execute_result"
    }
   ],
   "source": [
    "'''\n",
    "sklearn.svm.SVR(kernel=’rbf’, degree=3, gamma=’auto_deprecated’, coef0=0.0, tol=0.001,\n",
    "                C=1.0, epsilon=0.1, shrinking=True, cache_size=200, verbose=False,max_iter=-1)\n",
    "'''\n",
    "\n",
    "SVRModel = SVR(C = 1.0 ,epsilon=1,kernel = 'rbf') # it also can be : linear, poly, rbf, sigmoid, precomputed\n",
    "SVRModel.fit(X_train, y_train)\n"
   ]
  },
  {
   "cell_type": "markdown",
   "metadata": {
    "colab_type": "text",
    "id": "TPRxuUNIJ2B-"
   },
   "source": [
    "____\n",
    "\n",
    "how about scores ? \n"
   ]
  },
  {
   "cell_type": "code",
   "execution_count": 40,
   "metadata": {
    "colab": {
     "base_uri": "https://localhost:8080/",
     "height": 51
    },
    "colab_type": "code",
    "id": "ni5bEFz7J2CA",
    "outputId": "6d684c47-6cce-405f-89d3-6475c4a8172c"
   },
   "outputs": [
    {
     "name": "stdout",
     "output_type": "stream",
     "text": [
      "SVRModel Train Score is :  0.6053840513616287\n",
      "SVRModel Test Score is :  0.5654099811670861\n"
     ]
    }
   ],
   "source": [
    "print('SVRModel Train Score is : ' , SVRModel.score(X_train, y_train))\n",
    "print('SVRModel Test Score is : ' , SVRModel.score(X_test, y_test))"
   ]
  },
  {
   "cell_type": "markdown",
   "metadata": {
    "colab_type": "text",
    "id": "3mAPpAQSJ2CG"
   },
   "source": [
    "\n",
    "___\n",
    "\n",
    "looks very far from being suitable choice. . \n",
    "\n",
    "\n",
    "and the predicted Values . . \n",
    "\n"
   ]
  },
  {
   "cell_type": "code",
   "execution_count": 41,
   "metadata": {
    "colab": {
     "base_uri": "https://localhost:8080/",
     "height": 51
    },
    "colab_type": "code",
    "id": "kTOouLB6J2CJ",
    "outputId": "f47966a6-7f3f-4f78-c811-bc79a8da707c"
   },
   "outputs": [
    {
     "name": "stdout",
     "output_type": "stream",
     "text": [
      "Predicted Value for SVRModel is :  [23.48107827 12.11991128  2.47365348  5.11238677  2.58231139  4.17026988\n",
      "  2.6633477   3.3028066  10.44398107  3.45583422]\n"
     ]
    }
   ],
   "source": [
    "#Calculating Prediction\n",
    "y_pred = SVRModel.predict(X_test)\n",
    "print('Predicted Value for SVRModel is : ' , y_pred[:10])"
   ]
  },
  {
   "cell_type": "markdown",
   "metadata": {
    "colab_type": "text",
    "id": "vQ6pnIUKJ2CR"
   },
   "source": [
    "\n",
    "____\n",
    "\n",
    "now let's use Decision Tree Regressor\n",
    "\n"
   ]
  },
  {
   "cell_type": "code",
   "execution_count": 42,
   "metadata": {
    "colab": {
     "base_uri": "https://localhost:8080/",
     "height": 102
    },
    "colab_type": "code",
    "id": "PFmiiPGuJ2CT",
    "outputId": "0dce858b-e286-4b47-8b30-9ab740bb2657"
   },
   "outputs": [
    {
     "data": {
      "text/plain": [
       "DecisionTreeRegressor(criterion='mse', max_depth=3, max_features=None,\n",
       "                      max_leaf_nodes=None, min_impurity_decrease=0.0,\n",
       "                      min_impurity_split=None, min_samples_leaf=1,\n",
       "                      min_samples_split=2, min_weight_fraction_leaf=0.0,\n",
       "                      presort=False, random_state=33, splitter='best')"
      ]
     },
     "execution_count": 42,
     "metadata": {
      "tags": []
     },
     "output_type": "execute_result"
    }
   ],
   "source": [
    "'''\n",
    "sklearn.tree.DecisionTreeRegressor(criterion='mse’, splitter=’best’, max_depth=None,min_samples_split=2,\n",
    "                                   min_samples_leaf=1,min_weight_fraction_leaf=0.0, max_features=None,\n",
    "                                   random_state=None, max_leaf_nodes=None,min_impurity_decrease=0.0,\n",
    "                                   min_impurity_split=None, presort=False)\n",
    "'''\n",
    "\n",
    "DecisionTreeRegressorModel = DecisionTreeRegressor( max_depth=3,random_state=33)\n",
    "DecisionTreeRegressorModel.fit(X_train, y_train)\n"
   ]
  },
  {
   "cell_type": "markdown",
   "metadata": {
    "colab_type": "text",
    "id": "BjZ-_QLkJ2Ca"
   },
   "source": [
    "____\n",
    "\n",
    "calculating Scores \n"
   ]
  },
  {
   "cell_type": "code",
   "execution_count": 43,
   "metadata": {
    "colab": {
     "base_uri": "https://localhost:8080/",
     "height": 51
    },
    "colab_type": "code",
    "id": "c9v4KVFOJ2Cd",
    "outputId": "0ee43637-e048-4a58-d5ba-cf28b3e6be1f"
   },
   "outputs": [
    {
     "name": "stdout",
     "output_type": "stream",
     "text": [
      "DecisionTreeRegressor Train Score is :  0.9951981369269255\n",
      "DecisionTreeRegressor Test Score is :  0.9952870517639558\n"
     ]
    }
   ],
   "source": [
    "print('DecisionTreeRegressor Train Score is : ' , DecisionTreeRegressorModel.score(X_train, y_train))\n",
    "print('DecisionTreeRegressor Test Score is : ' , DecisionTreeRegressorModel.score(X_test, y_test))"
   ]
  },
  {
   "cell_type": "markdown",
   "metadata": {
    "colab_type": "text",
    "id": "6wZfBnHOJ2Ck"
   },
   "source": [
    "\n",
    "___\n",
    "\n",
    "fine numbers , whih pretty close to the Linear Regression . . \n",
    "\n",
    "\n",
    "and Predicted Values"
   ]
  },
  {
   "cell_type": "code",
   "execution_count": 44,
   "metadata": {
    "colab": {
     "base_uri": "https://localhost:8080/",
     "height": 71
    },
    "colab_type": "code",
    "id": "xJbzPRjnJ2Cm",
    "outputId": "6d08a20b-5cd3-40a7-d81e-663741334e84"
   },
   "outputs": [
    {
     "name": "stdout",
     "output_type": "stream",
     "text": [
      "Predicted Value for DecisionTreeRegressorModel is :  [40.01172331 45.40286953  2.75246335  1.92037696  1.48863003  2.75246335\n",
      "  1.48863003  2.75246335 32.69311401  2.36297595]\n"
     ]
    }
   ],
   "source": [
    "y_pred = DecisionTreeRegressorModel.predict(X_test)\n",
    "print('Predicted Value for DecisionTreeRegressorModel is : ' , y_pred[:10])"
   ]
  },
  {
   "cell_type": "markdown",
   "metadata": {
    "colab_type": "text",
    "id": "qXCtdYTPJ2Ct"
   },
   "source": [
    "___\n",
    "\n",
    "# Final\n",
    "\n",
    "\n",
    "it looks that using Linear Regression , or Decision Tree will be better in prediction the mean price , but may be changing some parameters in other models bring better accuracy . \n",
    "\n",
    "\n",
    "Hope you find this kernel useful !\n"
   ]
  },
  {
   "cell_type": "code",
   "execution_count": null,
   "metadata": {},
   "outputs": [],
   "source": []
  }
 ],
 "metadata": {
  "accelerator": "GPU",
  "colab": {
   "name": "Brazil.ipynb",
   "provenance": [],
   "toc_visible": true,
   "version": "0.3.2"
  },
  "kernelspec": {
   "display_name": "Python 3",
   "language": "python",
   "name": "python3"
  },
  "language_info": {
   "codemirror_mode": {
    "name": "ipython",
    "version": 3
   },
   "file_extension": ".py",
   "mimetype": "text/x-python",
   "name": "python",
   "nbconvert_exporter": "python",
   "pygments_lexer": "ipython3",
   "version": "3.7.3"
  }
 },
 "nbformat": 4,
 "nbformat_minor": 1
}
